{
  "cells": [
    {
      "cell_type": "code",
      "execution_count": null,
      "metadata": {
        "colab": {
          "base_uri": "https://localhost:8080/"
        },
        "id": "enIjn613Vhqe",
        "outputId": "9bb63dac-4ef3-4000-eec7-618755526adb"
      },
      "outputs": [
        {
          "output_type": "stream",
          "name": "stdout",
          "text": [
            "Sun Aug 28 10:13:54 2022       \n",
            "+-----------------------------------------------------------------------------+\n",
            "| NVIDIA-SMI 460.32.03    Driver Version: 460.32.03    CUDA Version: 11.2     |\n",
            "|-------------------------------+----------------------+----------------------+\n",
            "| GPU  Name        Persistence-M| Bus-Id        Disp.A | Volatile Uncorr. ECC |\n",
            "| Fan  Temp  Perf  Pwr:Usage/Cap|         Memory-Usage | GPU-Util  Compute M. |\n",
            "|                               |                      |               MIG M. |\n",
            "|===============================+======================+======================|\n",
            "|   0  Tesla T4            Off  | 00000000:00:04.0 Off |                    0 |\n",
            "| N/A   33C    P8     9W /  70W |      0MiB / 15109MiB |      0%      Default |\n",
            "|                               |                      |                  N/A |\n",
            "+-------------------------------+----------------------+----------------------+\n",
            "                                                                               \n",
            "+-----------------------------------------------------------------------------+\n",
            "| Processes:                                                                  |\n",
            "|  GPU   GI   CI        PID   Type   Process name                  GPU Memory |\n",
            "|        ID   ID                                                   Usage      |\n",
            "|=============================================================================|\n",
            "|  No running processes found                                                 |\n",
            "+-----------------------------------------------------------------------------+\n"
          ]
        }
      ],
      "source": [
        "!nvidia-smi"
      ]
    },
    {
      "cell_type": "code",
      "execution_count": null,
      "metadata": {
        "id": "04WHZeQpcOUz"
      },
      "outputs": [],
      "source": [
        "!pip install datasets transformers"
      ]
    },
    {
      "cell_type": "code",
      "execution_count": null,
      "metadata": {
        "colab": {
          "base_uri": "https://localhost:8080/"
        },
        "id": "YnmGEXaOWQ9W",
        "outputId": "6e1bafaa-57a1-4e69-af46-4306dc104bda"
      },
      "outputs": [
        {
          "output_type": "stream",
          "name": "stderr",
          "text": [
            "[nltk_data] Downloading package punkt to /root/nltk_data...\n",
            "[nltk_data]   Unzipping tokenizers/punkt.zip.\n"
          ]
        }
      ],
      "source": [
        "import re\n",
        "from tqdm import tqdm\n",
        "from tqdm.auto import trange\n",
        "import time\n",
        "import os\n",
        "\n",
        "from typing import List, Dict, Union, Tuple, NoReturn\n",
        "\n",
        "import pandas as pd\n",
        "from pandas.core.series import Series\n",
        "import json\n",
        "\n",
        "import numpy as np\n",
        "import string\n",
        "\n",
        "import nltk    \n",
        "from nltk import tokenize    \n",
        "nltk.download('punkt')   \n",
        "\n",
        "from gensim.models import KeyedVectors\n",
        "\n",
        "import matplotlib.pyplot as plt\n",
        "import matplotlib\n",
        "import seaborn as sns\n",
        "from sklearn.model_selection import train_test_split\n",
        "from sklearn.metrics import f1_score, accuracy_score\n",
        "\n",
        "import keras\n",
        "from keras.models import load_model, model_from_json, Sequential\n",
        "from keras.layers import Dense,Conv1D,MaxPooling1D, GlobalMaxPooling1D, GlobalAveragePooling1D\n",
        "from keras.layers import Flatten, LSTM, Bidirectional, Dropout, concatenate\n",
        "from keras.layers.embeddings import Embedding\n",
        "from keras.preprocessing import sequence\n",
        "from keras import Input, Model\n",
        "from keras.callbacks import ModelCheckpoint\n",
        "from keras.layers.merge import average\n",
        "\n",
        "import transformers\n",
        "from transformers import AutoTokenizer  # Or BertTokenizer\n",
        "from transformers import AutoModelForPreTraining  # Or BertForPreTraining for loading pretraining heads\n",
        "from transformers import AutoModel  # or BertModel, for BERT without pretraining heads\n",
        "from transformers import BertTokenizerFast, BatchEncoding, PreTrainedTokenizerFast, TrainingArguments, Trainer, AutoModelForSequenceClassification\n",
        "from datasets import load_metric\n",
        "\n",
        "import torch\n",
        "import torch.nn.functional as F\n",
        "from torch.utils.data import Dataset, DataLoader\n",
        "from torch import nn, optim\n",
        "import gc\n"
      ]
    },
    {
      "cell_type": "code",
      "execution_count": null,
      "metadata": {
        "id": "ZQ2ejHcds21F"
      },
      "outputs": [],
      "source": [
        "RANDOM_SEED = 42\n",
        "np.random.seed(RANDOM_SEED)\n",
        "torch.manual_seed(RANDOM_SEED)\n",
        "\n",
        "device = torch.device(\"cuda:0\" if torch.cuda.is_available() else \"cpu\")\n"
      ]
    },
    {
      "cell_type": "code",
      "execution_count": null,
      "metadata": {
        "id": "Axj7u6rmXEFn",
        "colab": {
          "base_uri": "https://localhost:8080/"
        },
        "outputId": "586e558d-8c65-4bae-94ec-0a1ae8d31d6d"
      },
      "outputs": [
        {
          "output_type": "stream",
          "name": "stdout",
          "text": [
            "Mounted at /content/drive\n"
          ]
        }
      ],
      "source": [
        "from google.colab import drive\n",
        "drive.mount('/content/drive')"
      ]
    },
    {
      "cell_type": "code",
      "execution_count": null,
      "metadata": {
        "id": "XROlEfC6XQZw"
      },
      "outputs": [],
      "source": [
        "GDRIVE_PATH:str = '/content/drive/MyDrive'\n",
        "DATASET_ROOT_PATH: str = os.path.join(GDRIVE_PATH, 'dataset', 'projeto-final')\n",
        "DATASET_IMPRENSA: str = os.path.join(DATASET_ROOT_PATH, 'imprensa')\n",
        "DATASET_MENCOES: str = os.path.join(DATASET_ROOT_PATH, 'mencoes')\n",
        "CONTEUDO_INDISPONIVEL: str = 'CONTEUDO_INDISPONIVEL'\n",
        "STOP_WORDS_FILE: str = os.path.join(DATASET_ROOT_PATH, 'stop-words.txt')\n",
        "\n",
        "EMBEDDING_GLOVE_50 : str = os.path.join(GDRIVE_PATH, 'model', 'embedding','glove_s50.txt')\n",
        "EMBEDDING_DIM_SIZE: int = 50\n",
        "\n",
        "LABEL_NAMES: List[str] = ['Negativa', 'Neutra', 'Positiva']\n",
        "LABEL_DICT_CONV_MENCOES : Dict[int,str] = {-5:'Negativa', 0:'Neutra', 5:'Positiva'}\n",
        "\n",
        "MAX_SENTENCE_LENGTH: int = 1000 \n",
        "MODEL_PATH: str = os.path.join(GDRIVE_PATH, 'model', 'projeto-final')\n",
        "\n",
        "# palavras comumente incorretas\n",
        "SUBSTITUICOES_COMUNS_PALAVRAS_INCORRETAS: Dict[str,str] = {\n",
        "    'covid-00': 'coronavírus',  'privatizacao':  'privatização', 'leilao':  'leilão',\n",
        "    'inflacao':  'inflação', 'bilhao':  'bilhão', 'concessoes': 'concessões',\n",
        "    'aprovacao': 'aprovação', 'covid': 'coronavírus', 'desestatizacao': 'desestatização',\n",
        "    'governanca': 'governança', 'atuacao': 'atuação', 'emissoes': 'emissões', \n",
        "    'manutencao': 'manutenção', 'licitacao': 'licitação', 'protecao': 'proteção',\n",
        "    'emissao': 'emissão', 'contratacao': 'contratação', 'aquisicao': 'aquisição',\n",
        "    'arrecadacao': 'arrecadação', 'votacao': 'votação', 'ampliacao': 'ampliação',\n",
        "    'negociacao': 'negociação', 'vacinacao': 'vacinação', 'inadimplencia': 'inadimplência', \n",
        "    'poupanca': 'poupança', 'realizacao': 'realização', 'suspensao': 'suspensão', \n",
        "    'preservacao': 'preservação', 'estruturacao': 'estruturação', 'fiscalizacao': 'fiscalização',\n",
        "    'capitalizacao': 'capitalização', 'conservacao': 'conservação', 'prestacao': 'prestação',\n",
        "    'cobranca': 'cobrança', 'transicao': 'transição', 'remuneracao': 'remuneração',\n",
        "    'liberacao': 'liberação', 'discussoes': 'discussões', 'universalizacao': 'universalização',\n",
        "    'aculpa': 'culpa', 'deverao': 'deverão', 'elaboracao': 'elaboração',\n",
        "    'contribuicao': 'contribuição', 'mineracao': 'mineração', 'adesao': 'adesão',\n",
        "    'modernizacao': 'modernização','regulacao': 'regulação', 'projecao': 'projeção',\n",
        "    'regulatorio': 'regulatório', 'centrao': 'centrão', 'avancos': 'avanços',\n",
        "    'climatica': 'climática', 'variacao': 'variação', 'implantacao': 'implantação',\n",
        "    'implementacao': 'implementação', 'projecoes': 'projeções', 'senadorhumberto': 'senador',\n",
        "    'trilhao': 'trilhão', 'reeleicao':  'reeleição', 'restricoes': 'restrições',\n",
        "    'elevacao': 'elevação', 'percepcao': 'percepção', 'importacao': 'importação',\n",
        "    'exportacao':  'exportação', 'valorizacao':  'valorização', 'licitacoes': 'licitações', \n",
        "    'adocao': 'adoção', 'trilhoes': 'trilhões', 'sustentaveis': 'sustentáveis',\n",
        "    'aviacao': 'aviação', 'pregao': 'pregão', 'recessao': 'recessão', 'reacao': 'reação',\n",
        "    'mineconomia' : 'ministro', 'regulamentacao' : 'regulamentação', 'movimentacao' : 'movimentação',\n",
        "    'p/': 'para'\n",
        "}\n",
        "\n",
        "MODEL_TRAINED_PATH: str = os.path.join(MODEL_PATH, 'bert')\n",
        "MODEL_TRAINED_LOG: str = os.path.join(MODEL_TRAINED_PATH, 'trainer.log')\n",
        "\n",
        "BATCH_SIZE = 16\n",
        "MAX_LEN = 512\n",
        "\n",
        "BASE_BERT_MODEL: str = 'neuralmind/bert-base-portuguese-cased'"
      ]
    },
    {
      "cell_type": "code",
      "execution_count": null,
      "metadata": {
        "id": "ro6Is1GI-AEu"
      },
      "outputs": [],
      "source": [
        "# Liberar e monitorar memória da GPU\n",
        "def destroy_model(model):\n",
        "    del model\n",
        "    gc.collect()\n",
        "    torch.cuda.empty_cache()\n",
        "\n",
        "def destroy_tokenizer(tokenizer):\n",
        "    del tokenizer\n",
        "    gc.collect()\n",
        "    torch.cuda.empty_cache()\n",
        "\n",
        "def get_gpu_memory_status():\n",
        "    total = (torch.cuda.get_device_properties(0).total_memory)/(1024 **2)\n",
        "    reserved = (torch.cuda.memory_reserved(0))/(1024 **2)\n",
        "    allocated = (torch.cuda.memory_allocated(0))/(1024 **2)\n",
        "    return f\"Total: {total:.2f} | Reserved: {reserved:.2f} | Allocated: {allocated:.2f}\""
      ]
    },
    {
      "cell_type": "code",
      "execution_count": null,
      "metadata": {
        "id": "CQs2piYzXbTN"
      },
      "outputs": [],
      "source": [
        "def read_dataset_imprensa() -> Tuple[np.ndarray, np.ndarray] :\n",
        "    '''\n",
        "        Carrega o dataset imprensa retornando dois numpy`s, o primeiro sáo os textos e o segundo os labels\n",
        "    '''\n",
        "    lista_texto : List[str] = []\n",
        "    lista_avaliacao: List[str] = []\n",
        "\n",
        "    for arq in os.listdir(DATASET_IMPRENSA):\n",
        "        if not '.csv' in arq:\n",
        "            continue\n",
        "        df = pd.read_csv(os.path.join(DATASET_IMPRENSA, arq), sep='|')\n",
        "        df = df[df[\"texto_artigo\"] != 'CONTEUDO_INDISPONIVEL']\n",
        "        df_texto = df[['texto_artigo']]\n",
        "        df_avaliacao = df[['Avaliação']]\n",
        "        \n",
        "        lista_texto_aux = df_texto.astype(str).values.tolist()\n",
        "        lista_avaliacao_aux = df_avaliacao.astype(str).values.tolist()\n",
        "        \n",
        "        for (texto,label) in zip(lista_texto_aux, lista_avaliacao_aux):\n",
        "            lista_texto.append(texto[0])\n",
        "            lista_avaliacao.append(label[0])\n",
        "\n",
        "    return (lista_texto, lista_avaliacao)"
      ]
    },
    {
      "cell_type": "code",
      "execution_count": null,
      "metadata": {
        "id": "9gOcfD4qnkBv"
      },
      "outputs": [],
      "source": [
        "def read_dataset_mencoes(debug: bool = False) -> Tuple[np.ndarray, np.ndarray] :\n",
        "    '''\n",
        "        Carrega o dataset mencoes retornando dois numpy`s, o primeiro sáo os textos e o segundo os labels\n",
        "    '''\n",
        "    lista_texto : List[str] = []\n",
        "    lista_avaliacao: List[str] = []\n",
        "    qtd_vazias: int = 0\n",
        "\n",
        "    for dir_ano in os.listdir(DATASET_MENCOES):\n",
        "        full_path: str = os.path.join(DATASET_MENCOES, dir_ano)\n",
        "        for arq in os.listdir(full_path):\n",
        "            if not '.csv' in arq:\n",
        "                continue\n",
        "            df = pd.read_csv(os.path.join(full_path, arq), sep='|')\n",
        "            # remover linhas vazias\n",
        "            df = df.dropna(subset=['content'])\n",
        "            df = df.drop_duplicates(subset=['content'])\n",
        "            \n",
        "            df_texto = df[['content']]\n",
        "            df_avaliacao = df[['sentiment']]\n",
        "            \n",
        "            lista_texto_aux = df_texto.astype(str).values.tolist()\n",
        "            lista_avaliacao_aux = df_avaliacao.astype(str).values.tolist()\n",
        "            \n",
        "            for (texto,label) in zip(lista_texto_aux, lista_avaliacao_aux):\n",
        "                if len(texto[0].strip()) > 0 or texto[0] == 'nan':\n",
        "                    #print(texto[0])\n",
        "                    lista_texto.append(texto[0])\n",
        "                    lista_avaliacao.append(LABEL_DICT_CONV_MENCOES[int(float(label[0]))])                \n",
        "    return (lista_texto, lista_avaliacao)"
      ]
    },
    {
      "cell_type": "code",
      "execution_count": null,
      "metadata": {
        "id": "3JmR5EaYDGYL"
      },
      "outputs": [],
      "source": [
        "def load_stopwords() -> List[str]:\n",
        "    \"\"\"\n",
        "    This function loads a stopword list from the *path* file and returns a \n",
        "    set of words. Lines begining by '#' are ignored.\n",
        "    \"\"\"\n",
        "\n",
        "    # Set of stopwords\n",
        "    stopwords = set([])\n",
        "\n",
        "    # For each line in the file\n",
        "    with open(STOP_WORDS_FILE, 'r', encoding='utf-8') as f:\n",
        "        for line in f:\n",
        "            if not re.search('^#', line) and len(line.strip()) > 0:\n",
        "                stopwords.add(line.strip().lower())\n",
        "\n",
        "    # inclusão dos tokens gerados incorretamente pelo word tokenize\n",
        "    stopwords.add(\"``\")\n",
        "    stopwords.add(\"''\")\n",
        "    # Return the set of stopwords\n",
        "    return stopwords"
      ]
    },
    {
      "cell_type": "code",
      "execution_count": null,
      "metadata": {
        "id": "bNZTmqpMDLv7"
      },
      "outputs": [],
      "source": [
        "def remove_links(tweet):\n",
        "    \"\"\"Takes a string and removes web links from it\"\"\"\n",
        "    tweet = re.sub(r'http\\S+', '', tweet)   # remove http links\n",
        "    tweet = re.sub(r'bit.ly/\\S+', '', tweet)  # remove bitly links\n",
        "    tweet = tweet.strip('[link]')   # remove [links]\n",
        "    tweet = re.sub(r'pic.twitter\\S+','', tweet)\n",
        "    return tweet\n",
        "\n",
        "def remove_users(tweet):\n",
        "    \"\"\"Takes a string and removes retweet and @user information\"\"\"\n",
        "    tweet = re.sub('(RT\\s@[A-Za-z]+[A-Za-z0-9-_]+[:]*)', '', tweet)  # remove re-tweet\n",
        "    tweet = re.sub('(@[A-Za-z]+[A-Za-z0-9-_]+[:]*)', '', tweet)  # remove tweeted at\n",
        "    return tweet\n",
        "\n",
        "def remove_hashtags(tweet):\n",
        "    \"\"\"Takes a string and removes any hash tags\"\"\"\n",
        "    tweet = re.sub('(#[A-Za-z]+[A-Za-z0-9-_]+)', '', tweet)  # remove hash tags\n",
        "    return tweet\n",
        "\n",
        "def remove_av(tweet):\n",
        "    \"\"\"Takes a string and removes AUDIO/VIDEO tags or labels\"\"\"\n",
        "    tweet = re.sub('VIDEO:', '', tweet)  # remove 'VIDEO:' from start of tweet\n",
        "    tweet = re.sub('AUDIO:', '', tweet)  # remove 'AUDIO:' from start of tweet\n",
        "    return tweet\n",
        "\n",
        "def trata_bndes(tweet):\n",
        "    \"\"\"Trata o nome do BNDES, que aparece muito e não esá\"\"\"\n",
        "    #tweet = re.sub('BNDES', 'banco', tweet)  \n",
        "    #tweet = re.sub('BNDS', 'banco', tweet)  \n",
        "    \n",
        "    return tweet\n",
        "\n",
        "def trata_erros_escrita_comuns(tweet):\n",
        "    for key in SUBSTITUICOES_COMUNS_PALAVRAS_INCORRETAS:\n",
        "        tweet = re.sub(key, SUBSTITUICOES_COMUNS_PALAVRAS_INCORRETAS[key], tweet)\n",
        "    return tweet\n",
        "\n",
        "def pre_processar(text: str) -> str:\n",
        "    text = remove_links(text)\n",
        "    text = remove_users(text)\n",
        "    text = remove_hashtags(text)\n",
        "    text = remove_av(text)\n",
        "    text = trata_bndes(text)\n",
        "    text = trata_erros_escrita_comuns(text)\n",
        "\n",
        "    return text.strip()"
      ]
    },
    {
      "cell_type": "code",
      "execution_count": null,
      "metadata": {
        "id": "DK0JmlSWfxYB"
      },
      "outputs": [],
      "source": [
        "def carrega_texto_treinamento() -> Tuple[List[str], List[str]]:\n",
        "    '''\n",
        "        Carrega todos os textos necessários para treinamento\n",
        "\n",
        "        Returns:\n",
        "            List[str] - Textos\n",
        "            List[str] - Labels\n",
        "    '''\n",
        "\n",
        "    stop_words = load_stopwords()\n",
        "    \n",
        "    lista_texto_imprensa: List[str]\n",
        "    lista_label_imprensa: List[str] \n",
        "    lista_texto_mencoes: List[str]\n",
        "    lista_label_mencoes: List[str]\n",
        "    lista_texto_completa: List[str] = []\n",
        "    lista_texto_completa_final: List[str] = []\n",
        "    lista_label_completa: List[str] = []\n",
        "\n",
        "\n",
        "    (lista_texto_imprensa, lista_label_imprensa) = read_dataset_imprensa()\n",
        "    (lista_texto_mencoes, lista_label_mencoes) = read_dataset_mencoes()\n",
        "\n",
        "    lista_texto_completa.extend(lista_texto_imprensa)\n",
        "    lista_texto_completa.extend(lista_texto_mencoes)\n",
        "    lista_label_completa.extend(lista_label_imprensa)\n",
        "    lista_label_completa.extend(lista_label_mencoes)\n",
        "\n",
        "\n",
        "    for texto in tqdm(lista_texto_completa,'Limpando textos para entrada no modelo....'):\n",
        "        lista_texto_completa_final.append(pre_processar(texto))\n",
        "\n",
        "    return (lista_texto_completa_final, lista_label_completa)\n"
      ]
    },
    {
      "cell_type": "code",
      "execution_count": null,
      "metadata": {
        "id": "vZWWRVwkCKJl"
      },
      "outputs": [],
      "source": [
        "def compute_metrics(eval_pred):\n",
        "   load_accuracy = load_metric(\"accuracy\")\n",
        "   load_f1 = load_metric(\"f1\")\n",
        "  \n",
        "   logits, labels = eval_pred\n",
        "   predictions = np.argmax(logits, axis=-1)\n",
        "   accuracy = load_accuracy.compute(predictions=predictions, references=labels)[\"accuracy\"]\n",
        "   f1 = load_f1.compute(predictions=predictions, references=labels, average='macro')[\"f1\"]\n",
        "   return {\"accuracy\": accuracy, \"f1\": f1}"
      ]
    },
    {
      "cell_type": "code",
      "execution_count": null,
      "metadata": {
        "id": "C2fWUpl_hSlY",
        "colab": {
          "base_uri": "https://localhost:8080/"
        },
        "outputId": "40cfbc10-c400-4cfe-fb7e-bd3e0c30c535"
      },
      "outputs": [
        {
          "output_type": "stream",
          "name": "stderr",
          "text": [
            "Limpando textos para entrada no modelo....: 100%|██████████| 45440/45440 [00:10<00:00, 4263.51it/s]"
          ]
        },
        {
          "output_type": "stream",
          "name": "stdout",
          "text": [
            "Texto 45440 Label 45440\n"
          ]
        },
        {
          "output_type": "stream",
          "name": "stderr",
          "text": [
            "\n"
          ]
        }
      ],
      "source": [
        "(lista_texto_completa,lista_label_completa) = carrega_texto_treinamento()\n",
        "lista_label_conv: List[int] = np.array([LABEL_NAMES.index(label) for label in lista_label_completa])\n",
        "print(f'Texto {len(lista_texto_completa)} Label {len(lista_label_conv)}')\n"
      ]
    },
    {
      "cell_type": "code",
      "execution_count": null,
      "metadata": {
        "colab": {
          "base_uri": "https://localhost:8080/",
          "height": 70
        },
        "id": "PBFjmOJoJj2b",
        "outputId": "e977a785-7e88-4995-89de-767c040cd68f"
      },
      "outputs": [
        {
          "output_type": "execute_result",
          "data": {
            "text/plain": [
              "'“O PT sob o comando do Lula deixou o rombo de 42 bilhões na Petrobras;5 bilhões no fundo dos Correios, 20 bilhões no fundo da Petrobras; 13 bilhões no fundo do BB; 12 bilhões no fundo da Caixa, e 500 bilhões do BNDES para ditaduras. Nossa 4ª geração pagará pelos estragos do PT.”'"
            ],
            "application/vnd.google.colaboratory.intrinsic+json": {
              "type": "string"
            }
          },
          "metadata": {},
          "execution_count": 23
        }
      ],
      "source": [
        "lista_texto_completa[10011]"
      ]
    },
    {
      "cell_type": "code",
      "execution_count": null,
      "metadata": {
        "colab": {
          "base_uri": "https://localhost:8080/"
        },
        "id": "7x1cgE6kkE7e",
        "outputId": "5a7851f1-fe84-4725-9f09-48421c0e0359"
      },
      "outputs": [
        {
          "output_type": "stream",
          "name": "stderr",
          "text": [
            "Some weights of the model checkpoint at neuralmind/bert-base-portuguese-cased were not used when initializing BertForSequenceClassification: ['cls.predictions.transform.dense.bias', 'cls.predictions.bias', 'cls.seq_relationship.weight', 'cls.predictions.transform.LayerNorm.weight', 'cls.predictions.decoder.weight', 'cls.predictions.transform.LayerNorm.bias', 'cls.seq_relationship.bias', 'cls.predictions.transform.dense.weight']\n",
            "- This IS expected if you are initializing BertForSequenceClassification from the checkpoint of a model trained on another task or with another architecture (e.g. initializing a BertForSequenceClassification model from a BertForPreTraining model).\n",
            "- This IS NOT expected if you are initializing BertForSequenceClassification from the checkpoint of a model that you expect to be exactly identical (initializing a BertForSequenceClassification model from a BertForSequenceClassification model).\n",
            "Some weights of BertForSequenceClassification were not initialized from the model checkpoint at neuralmind/bert-base-portuguese-cased and are newly initialized: ['classifier.weight', 'classifier.bias']\n",
            "You should probably TRAIN this model on a down-stream task to be able to use it for predictions and inference.\n"
          ]
        }
      ],
      "source": [
        "model = AutoModelForSequenceClassification.from_pretrained(BASE_BERT_MODEL, num_labels=3)\n",
        "tokenizer = AutoTokenizer.from_pretrained(BASE_BERT_MODEL, do_lower_case=False)"
      ]
    },
    {
      "cell_type": "code",
      "execution_count": null,
      "metadata": {
        "colab": {
          "base_uri": "https://localhost:8080/"
        },
        "id": "v6ShZRIcox2-",
        "outputId": "62ca8bbf-7d84-4fd6-9017-d57b0ac79873"
      },
      "outputs": [
        {
          "data": {
            "text/plain": [
              "768"
            ]
          },
          "execution_count": 21,
          "metadata": {},
          "output_type": "execute_result"
        }
      ],
      "source": [
        "model.config.hidden_size"
      ]
    },
    {
      "cell_type": "code",
      "execution_count": null,
      "metadata": {
        "colab": {
          "base_uri": "https://localhost:8080/"
        },
        "id": "n21xINdNhr7w",
        "outputId": "61c65093-fe26-4a91-c2d9-c3da0a3ea7f9"
      },
      "outputs": [
        {
          "output_type": "stream",
          "name": "stdout",
          "text": [
            " Sentence: Apos o governo ensaiar um recuo na proposta de financiar o Renda Cidada com dinheiro dos precatorios, o dia de ontem terminou com uma indefinicao em torno de como se pretende custear o programa social bolsonarista. Momentos depois de o ministro da Economia, Paulo Guedes, ter defendido um a fonte de recursos \"saudavel, limpa e permanente\" para o programa, o senador Marcio Bittar (MDB-AC), relator das PECs do Pacto Federativo e do auxilio emergencial, disse ao Valor que a ideia de usar os precatorios para essa finalidade estara implicita no texto, que ele esta finalizando. Ontem, enquanto membros do governo propagavam a versao de que Guedes foi \"atropelado\" nas discussões, Bittar afirmava que a ideia teve aval do presidente Jair Bolsonaro e do ministro. \"Um projeto dessa magnitude jamais seria apresentado se nao tivesse o conhecimento e a aprovação do presidente da nacao e o carimbo de 'ok' do ministro da Economia\", afirmou. Ontem pela manha, um ministro disse ao Valor que a ideia foi apresentada a equipe economica, mas que ainda nao tinha o aval do governo quando foi apresentada, em entrevista coletiva no Palacio da Alvorada, na segunda. Uma outra fonte palaciana havia dado a mesma versao na noite anterior, tambem falando sob anonimato. Bittar nao quis dizer de quem foi a autoria da proposta. E afirmou que a vinculacao entre os precatorios e o Renda Cidada nao sera explicita no seu projeto. \"O texto que vamos apresentar nao estara dizendo que o dinheiro do precatorio vai criar o programa. E subentendido\", disse. \"O importante e que o ministro deu uma demonstracao cabal de que concorda com a proposta dos precatorios. Se ele nao concordasse a proposta nao existiria\", acrescentou. Por isso, explicou, tecnicamente o ministro tem razao ao dizer que nao pode haver uma vinculacao direta na legislacao entre as reducoes de precatorios e o programa que vai suceder o Bolsa Familia. \"Mas isso nao muda nada. E uma bobagem. O governo precisa buscar uma 'sobra' no orcamento. E o espaco e esse\", afirmou. \"Nos precisamos achar um dinheiro no orcamento do pais para atender 10 milhoes de brasileiros. Essa e uma forma. Nao e calote.\" O tema foi discutido em ao menos tres reunioes no Planalto nos ultimos dois dias, com a presenca de Bolsonaro e Guedes. Na terca, participaram Luiz Eduardo Ramos (Secretaria de Governo), Fabio Faria (Comunicacoes), e os presidentes do Banco Central, Roberto Campos Neto, e do  BNDES ,  Gustavo  Montezano. Uma nova reuniao ocorreu na manha de ontem, com a presenca apenas de Jorge Oliveira (Secretaria-Geral). A lideranca do governo Congresso so entrou nas conversas na noite de ontem. Nessa ultima reuniao, estavam Ricardo Barros (PPPR), lider na Camara, Fernando Bezerra (MDB-PE), lider no Senado, alem de Braga Netto (Casa Civil), Jorge, Ramos e Campos Neto. Todos sairam do palacio sem falar.\n",
            "   Tokens: ['O', 'b', '##ndes', 'foi']\n",
            "Token IDs: [231, 235, 1029, 262]\n"
          ]
        }
      ],
      "source": [
        "tokens = tokenizer.tokenize(' O bndes foi ')\n",
        "token_ids = tokenizer.convert_tokens_to_ids(tokens)\n",
        "\n",
        "print(f' Sentence: {lista_texto_completa[0]}')\n",
        "print(f'   Tokens: {tokens}')\n",
        "print(f'Token IDs: {token_ids}')"
      ]
    },
    {
      "cell_type": "code",
      "execution_count": null,
      "metadata": {
        "colab": {
          "base_uri": "https://localhost:8080/"
        },
        "id": "TgqIoIl1iZdm",
        "outputId": "731cb6c9-9ede-4da8-fbf6-c154c379b2c1"
      },
      "outputs": [
        {
          "name": "stdout",
          "output_type": "stream",
          "text": [
            "[SEP] 102\n",
            "[CLS] 101\n",
            "[PAD] 0\n",
            "[UNK] 100\n"
          ]
        }
      ],
      "source": [
        "print(tokenizer.sep_token, tokenizer.sep_token_id)\n",
        "print(tokenizer.cls_token, tokenizer.cls_token_id)\n",
        "print(tokenizer.pad_token, tokenizer.pad_token_id)\n",
        "print(tokenizer.unk_token, tokenizer.unk_token_id)"
      ]
    },
    {
      "cell_type": "code",
      "execution_count": null,
      "metadata": {
        "id": "jS8Q_Dppk6eY"
      },
      "outputs": [],
      "source": [
        "class BNDESSentimentDataset(torch.utils.data.Dataset):\n",
        "\n",
        "  def __init__(self, textos, sentimentos, tokenizer, max_len):\n",
        "    self.lista_texto = textos\n",
        "    self.lista_sentimento = sentimentos\n",
        "    self.tokenizer = tokenizer\n",
        "    self.max_len = max_len\n",
        "  \n",
        "  def __len__(self):\n",
        "    return len(self.lista_texto)\n",
        "  \n",
        "  def __getitem__(self, item):\n",
        "    texto = str(self.lista_texto[item])\n",
        "    sentimento = self.lista_sentimento[item]\n",
        "\n",
        "    encoding = self.tokenizer.encode_plus(\n",
        "      texto,\n",
        "      add_special_tokens=True,\n",
        "      max_length=self.max_len,\n",
        "      return_token_type_ids=False,\n",
        "      pad_to_max_length=True,\n",
        "      return_attention_mask=True,\n",
        "      return_tensors='pt',\n",
        "    )\n",
        "\n",
        "    return {\n",
        "      'texto': texto,\n",
        "      'input_ids': encoding['input_ids'].flatten(),\n",
        "      'attention_mask': encoding['attention_mask'].flatten(),\n",
        "      'labels': torch.tensor(sentimento, dtype=torch.long)\n",
        "    }"
      ]
    },
    {
      "cell_type": "code",
      "execution_count": null,
      "metadata": {
        "id": "eST4EHJYnBfH"
      },
      "outputs": [],
      "source": [
        "X_train, X_test, y_train, y_test = train_test_split(lista_texto_completa, lista_label_conv,\n",
        "                                                    test_size=0.1,\n",
        "                                                    random_state=0,\n",
        "                                                    stratify=lista_label_conv)\n",
        "\n",
        "X_train, X_val, y_train, y_val = train_test_split(X_train, y_train,\n",
        "                                                    test_size=0.1,\n",
        "                                                    random_state=0,\n",
        "                                                    stratify=y_train)\n",
        "\n",
        "\n",
        "train_dataset = BNDESSentimentDataset(textos=X_train,sentimentos=y_train,tokenizer=tokenizer,max_len=MAX_LEN)\n",
        "val_dataset = BNDESSentimentDataset(textos=X_val,sentimentos=y_val,tokenizer=tokenizer,max_len=MAX_LEN)\n",
        "test_dataset = BNDESSentimentDataset(textos=X_test,sentimentos=y_test,tokenizer=tokenizer,max_len=MAX_LEN)"
      ]
    },
    {
      "cell_type": "code",
      "execution_count": null,
      "metadata": {
        "id": "epJOmfaWdSvE"
      },
      "outputs": [],
      "source": [
        "training_args = TrainingArguments(\n",
        "    output_dir='./results',          # output directory\n",
        "    num_train_epochs=3,              # total number of training epochs\n",
        "    per_device_train_batch_size=16,  # batch size per device during training\n",
        "    per_device_eval_batch_size=16,   # batch size for evaluation\n",
        "    warmup_steps=500,                # number of warmup steps for learning rate scheduler\n",
        "    weight_decay=0.01,               # strength of weight decay\n",
        "    logging_dir= MODEL_TRAINED_LOG,            # directory for storing logs\n",
        "    logging_steps=500,\n",
        "    evaluation_strategy='steps',\n",
        "    save_strategy='steps',\n",
        "    load_best_model_at_end=True\n",
        "\n",
        ")"
      ]
    },
    {
      "cell_type": "code",
      "execution_count": null,
      "metadata": {
        "id": "4-eOS1L-sZ8N"
      },
      "outputs": [],
      "source": [
        "trainer = Trainer(\n",
        "    model=model,                         # the instantiated 🤗 Transformers model to be trained\n",
        "    args=training_args,                  # training arguments, defined above\n",
        "    train_dataset=train_dataset,         # training dataset\n",
        "    eval_dataset=val_dataset ,            # evaluation dataset\n",
        "    compute_metrics=compute_metrics\n",
        ")"
      ]
    },
    {
      "cell_type": "code",
      "execution_count": null,
      "metadata": {
        "id": "R5nIuj7dvsxd"
      },
      "outputs": [],
      "source": [
        "trainer.train()"
      ]
    },
    {
      "cell_type": "code",
      "execution_count": null,
      "metadata": {
        "colab": {
          "base_uri": "https://localhost:8080/"
        },
        "id": "PDE1tQnB3rzo",
        "outputId": "09353bcc-c67a-4745-dee6-d2b94734fc0b"
      },
      "outputs": [
        {
          "name": "stderr",
          "output_type": "stream",
          "text": [
            "Saving model checkpoint to /content/drive/MyDrive/model/projeto-final/bert\n",
            "Configuration saved in /content/drive/MyDrive/model/projeto-final/bert/config.json\n",
            "Model weights saved in /content/drive/MyDrive/model/projeto-final/bert/pytorch_model.bin\n"
          ]
        }
      ],
      "source": [
        "trainer.save_model(MODEL_TRAINED_PATH)\n",
        "destroy_model(model)\n",
        "destroy_tokenizer(tokenizer)"
      ]
    },
    {
      "cell_type": "markdown",
      "source": [
        "## Teste do Modelo"
      ],
      "metadata": {
        "id": "viTVEYy68s_x"
      }
    },
    {
      "cell_type": "code",
      "execution_count": null,
      "metadata": {
        "id": "mskPUJQxLv9s"
      },
      "outputs": [],
      "source": [
        "model = AutoModelForSequenceClassification.from_pretrained(MODEL_TRAINED_PATH, num_labels=3)\n",
        "tokenizer = AutoTokenizer.from_pretrained(BASE_BERT_MODEL, do_lower_case=False)\n",
        "model.to('cuda')"
      ]
    },
    {
      "cell_type": "code",
      "execution_count": null,
      "metadata": {
        "colab": {
          "base_uri": "https://localhost:8080/"
        },
        "id": "1fK8inmI8qeH",
        "outputId": "3b012b5b-c3e8-4a17-b14b-ebdf735be1a5"
      },
      "outputs": [
        {
          "name": "stderr",
          "output_type": "stream",
          "text": [
            "100%|██████████| 284/284 [03:09<00:00,  1.50it/s]\n"
          ]
        }
      ],
      "source": [
        "loader = torch.utils.data.DataLoader(test_dataset, batch_size=16, shuffle=False)\n",
        "loop = tqdm(loader, leave=True)\n",
        "final_output_loss = []\n",
        "final_output_logits = []\n",
        "\n",
        "for it, batch in enumerate(loop):\n",
        "\n",
        "    input_ids = batch['input_ids'].to('cuda')\n",
        "    attention_mask = batch['attention_mask'].to('cuda')\n",
        "    labels = batch['labels'].to('cuda')\n",
        "\n",
        "    outputs = model(input_ids=input_ids, \n",
        "                    attention_mask=attention_mask, \n",
        "                    labels=labels)\n",
        "    \n",
        "    final_output_loss.append(outputs.loss.detach().to('cpu').numpy())\n",
        "    final_output_logits.append(outputs.logits.detach().to('cpu').numpy())\n",
        "\n",
        "    input_ids.detach()\n",
        "    attention_mask.detach()\n",
        "    labels.detach\n",
        "    labels = None\n",
        "    input_ids = None\n",
        "    attention_mask = None\n",
        "    outputs.logits = None\n",
        "    outputs.loss = None\n",
        "    outputs = None\n",
        "    gc.collect()\n",
        "    torch.cuda.empty_cache()\n",
        "    "
      ]
    },
    {
      "cell_type": "code",
      "execution_count": null,
      "metadata": {
        "colab": {
          "base_uri": "https://localhost:8080/"
        },
        "id": "y3lGHleT-Wa4",
        "outputId": "bb45f1c0-94aa-4150-9d36-7569f5af85df"
      },
      "outputs": [
        {
          "data": {
            "application/vnd.google.colaboratory.intrinsic+json": {
              "type": "string"
            },
            "text/plain": [
              "'Total: 16280.88 | Reserved: 2244.00 | Allocated: 2084.78'"
            ]
          },
          "execution_count": 59,
          "metadata": {},
          "output_type": "execute_result"
        }
      ],
      "source": [
        "destroy_model(model)\n",
        "get_gpu_memory_status()"
      ]
    },
    {
      "cell_type": "code",
      "execution_count": null,
      "metadata": {
        "id": "gNG6SOZt9Ys0"
      },
      "outputs": [],
      "source": [
        "test_preds = np.vstack(final_output_logits)\n",
        "test_preds = np.argmax(test_preds, axis=-1)"
      ]
    },
    {
      "cell_type": "code",
      "execution_count": null,
      "metadata": {
        "colab": {
          "base_uri": "https://localhost:8080/"
        },
        "id": "qc6iNbzU9w7K",
        "outputId": "50cdcbd5-7cfe-44fa-97a0-1e10b54d9b03"
      },
      "outputs": [
        {
          "name": "stdout",
          "output_type": "stream",
          "text": [
            "F1 Score (Macro) -  0.8388349789623075\n",
            "Acurácia 0.8415492957746479\n"
          ]
        }
      ],
      "source": [
        "y_true = np.array(y_test).ravel()\n",
        "y_pred = test_preds.ravel()\n",
        "\n",
        "score = f1_score(y_true=y_true, y_pred=y_pred, average='macro')\n",
        "print('F1 Score (Macro) - ', score)\n",
        "score = accuracy_score(y_true=y_true, y_pred=y_pred)\n",
        "print('Acurácia', score)"
      ]
    }
  ],
  "metadata": {
    "accelerator": "GPU",
    "colab": {
      "collapsed_sections": [],
      "machine_shape": "hm",
      "name": "treino-bndes-sentiment-BERT.ipynb",
      "provenance": []
    },
    "gpuClass": "standard",
    "kernelspec": {
      "display_name": "Python 3",
      "name": "python3"
    },
    "language_info": {
      "name": "python"
    }
  },
  "nbformat": 4,
  "nbformat_minor": 0
}