{
  "cells": [
    {
      "cell_type": "code",
      "execution_count": null,
      "metadata": {
        "colab": {
          "base_uri": "https://localhost:8080/",
          "height": 1000
        },
        "id": "enIjn613Vhqe",
        "outputId": "60a1128f-3d5a-4c97-e96a-31c639372009"
      },
      "outputs": [
        {
          "output_type": "stream",
          "name": "stdout",
          "text": [
            "Looking in indexes: https://pypi.org/simple, https://us-python.pkg.dev/colab-wheels/public/simple/\n",
            "Requirement already satisfied: matplotlib in /usr/local/lib/python3.7/dist-packages (3.2.2)\n",
            "Collecting matplotlib\n",
            "  Downloading matplotlib-3.5.3-cp37-cp37m-manylinux_2_5_x86_64.manylinux1_x86_64.whl (11.2 MB)\n",
            "\u001b[K     |████████████████████████████████| 11.2 MB 5.0 MB/s \n",
            "\u001b[?25hRequirement already satisfied: python-dateutil>=2.7 in /usr/local/lib/python3.7/dist-packages (from matplotlib) (2.8.2)\n",
            "Requirement already satisfied: cycler>=0.10 in /usr/local/lib/python3.7/dist-packages (from matplotlib) (0.11.0)\n",
            "Requirement already satisfied: packaging>=20.0 in /usr/local/lib/python3.7/dist-packages (from matplotlib) (21.3)\n",
            "Collecting fonttools>=4.22.0\n",
            "  Downloading fonttools-4.37.1-py3-none-any.whl (957 kB)\n",
            "\u001b[K     |████████████████████████████████| 957 kB 66.8 MB/s \n",
            "\u001b[?25hRequirement already satisfied: kiwisolver>=1.0.1 in /usr/local/lib/python3.7/dist-packages (from matplotlib) (1.4.4)\n",
            "Requirement already satisfied: pyparsing>=2.2.1 in /usr/local/lib/python3.7/dist-packages (from matplotlib) (3.0.9)\n",
            "Requirement already satisfied: pillow>=6.2.0 in /usr/local/lib/python3.7/dist-packages (from matplotlib) (7.1.2)\n",
            "Requirement already satisfied: numpy>=1.17 in /usr/local/lib/python3.7/dist-packages (from matplotlib) (1.21.6)\n",
            "Requirement already satisfied: typing-extensions in /usr/local/lib/python3.7/dist-packages (from kiwisolver>=1.0.1->matplotlib) (4.1.1)\n",
            "Requirement already satisfied: six>=1.5 in /usr/local/lib/python3.7/dist-packages (from python-dateutil>=2.7->matplotlib) (1.15.0)\n",
            "Installing collected packages: fonttools, matplotlib\n",
            "  Attempting uninstall: matplotlib\n",
            "    Found existing installation: matplotlib 3.2.2\n",
            "    Uninstalling matplotlib-3.2.2:\n",
            "      Successfully uninstalled matplotlib-3.2.2\n",
            "Successfully installed fonttools-4.37.1 matplotlib-3.5.3\n"
          ]
        },
        {
          "output_type": "display_data",
          "data": {
            "application/vnd.colab-display-data+json": {
              "pip_warning": {
                "packages": [
                  "matplotlib",
                  "mpl_toolkits"
                ]
              }
            }
          },
          "metadata": {}
        },
        {
          "output_type": "stream",
          "name": "stdout",
          "text": [
            "Looking in indexes: https://pypi.org/simple, https://us-python.pkg.dev/colab-wheels/public/simple/\n",
            "Collecting datasets\n",
            "  Downloading datasets-2.4.0-py3-none-any.whl (365 kB)\n",
            "\u001b[K     |████████████████████████████████| 365 kB 5.1 MB/s \n",
            "\u001b[?25hCollecting transformers\n",
            "  Downloading transformers-4.21.2-py3-none-any.whl (4.7 MB)\n",
            "\u001b[K     |████████████████████████████████| 4.7 MB 47.5 MB/s \n",
            "\u001b[?25hRequirement already satisfied: packaging in /usr/local/lib/python3.7/dist-packages (from datasets) (21.3)\n",
            "Requirement already satisfied: dill<0.3.6 in /usr/local/lib/python3.7/dist-packages (from datasets) (0.3.5.1)\n",
            "Requirement already satisfied: pandas in /usr/local/lib/python3.7/dist-packages (from datasets) (1.3.5)\n",
            "Requirement already satisfied: fsspec[http]>=2021.11.1 in /usr/local/lib/python3.7/dist-packages (from datasets) (2022.7.1)\n",
            "Collecting huggingface-hub<1.0.0,>=0.1.0\n",
            "  Downloading huggingface_hub-0.9.1-py3-none-any.whl (120 kB)\n",
            "\u001b[K     |████████████████████████████████| 120 kB 45.0 MB/s \n",
            "\u001b[?25hRequirement already satisfied: aiohttp in /usr/local/lib/python3.7/dist-packages (from datasets) (3.8.1)\n",
            "Collecting responses<0.19\n",
            "  Downloading responses-0.18.0-py3-none-any.whl (38 kB)\n",
            "Requirement already satisfied: requests>=2.19.0 in /usr/local/lib/python3.7/dist-packages (from datasets) (2.23.0)\n",
            "Requirement already satisfied: importlib-metadata in /usr/local/lib/python3.7/dist-packages (from datasets) (4.12.0)\n",
            "Requirement already satisfied: pyarrow>=6.0.0 in /usr/local/lib/python3.7/dist-packages (from datasets) (6.0.1)\n",
            "Requirement already satisfied: numpy>=1.17 in /usr/local/lib/python3.7/dist-packages (from datasets) (1.21.6)\n",
            "Collecting multiprocess\n",
            "  Downloading multiprocess-0.70.13-py37-none-any.whl (115 kB)\n",
            "\u001b[K     |████████████████████████████████| 115 kB 46.6 MB/s \n",
            "\u001b[?25hRequirement already satisfied: tqdm>=4.62.1 in /usr/local/lib/python3.7/dist-packages (from datasets) (4.64.0)\n",
            "Collecting xxhash\n",
            "  Downloading xxhash-3.0.0-cp37-cp37m-manylinux_2_17_x86_64.manylinux2014_x86_64.whl (212 kB)\n",
            "\u001b[K     |████████████████████████████████| 212 kB 15.2 MB/s \n",
            "\u001b[?25hRequirement already satisfied: pyyaml>=5.1 in /usr/local/lib/python3.7/dist-packages (from huggingface-hub<1.0.0,>=0.1.0->datasets) (6.0)\n",
            "Requirement already satisfied: typing-extensions>=3.7.4.3 in /usr/local/lib/python3.7/dist-packages (from huggingface-hub<1.0.0,>=0.1.0->datasets) (4.1.1)\n",
            "Requirement already satisfied: filelock in /usr/local/lib/python3.7/dist-packages (from huggingface-hub<1.0.0,>=0.1.0->datasets) (3.8.0)\n",
            "Requirement already satisfied: pyparsing!=3.0.5,>=2.0.2 in /usr/local/lib/python3.7/dist-packages (from packaging->datasets) (3.0.9)\n",
            "Requirement already satisfied: idna<3,>=2.5 in /usr/local/lib/python3.7/dist-packages (from requests>=2.19.0->datasets) (2.10)\n",
            "Requirement already satisfied: certifi>=2017.4.17 in /usr/local/lib/python3.7/dist-packages (from requests>=2.19.0->datasets) (2022.6.15)\n",
            "Requirement already satisfied: urllib3!=1.25.0,!=1.25.1,<1.26,>=1.21.1 in /usr/local/lib/python3.7/dist-packages (from requests>=2.19.0->datasets) (1.24.3)\n",
            "Requirement already satisfied: chardet<4,>=3.0.2 in /usr/local/lib/python3.7/dist-packages (from requests>=2.19.0->datasets) (3.0.4)\n",
            "Collecting urllib3!=1.25.0,!=1.25.1,<1.26,>=1.21.1\n",
            "  Downloading urllib3-1.25.11-py2.py3-none-any.whl (127 kB)\n",
            "\u001b[K     |████████████████████████████████| 127 kB 47.0 MB/s \n",
            "\u001b[?25hRequirement already satisfied: regex!=2019.12.17 in /usr/local/lib/python3.7/dist-packages (from transformers) (2022.6.2)\n",
            "Collecting tokenizers!=0.11.3,<0.13,>=0.11.1\n",
            "  Downloading tokenizers-0.12.1-cp37-cp37m-manylinux_2_12_x86_64.manylinux2010_x86_64.whl (6.6 MB)\n",
            "\u001b[K     |████████████████████████████████| 6.6 MB 38.2 MB/s \n",
            "\u001b[?25hRequirement already satisfied: attrs>=17.3.0 in /usr/local/lib/python3.7/dist-packages (from aiohttp->datasets) (22.1.0)\n",
            "Requirement already satisfied: charset-normalizer<3.0,>=2.0 in /usr/local/lib/python3.7/dist-packages (from aiohttp->datasets) (2.1.0)\n",
            "Requirement already satisfied: async-timeout<5.0,>=4.0.0a3 in /usr/local/lib/python3.7/dist-packages (from aiohttp->datasets) (4.0.2)\n",
            "Requirement already satisfied: yarl<2.0,>=1.0 in /usr/local/lib/python3.7/dist-packages (from aiohttp->datasets) (1.8.1)\n",
            "Requirement already satisfied: frozenlist>=1.1.1 in /usr/local/lib/python3.7/dist-packages (from aiohttp->datasets) (1.3.1)\n",
            "Requirement already satisfied: multidict<7.0,>=4.5 in /usr/local/lib/python3.7/dist-packages (from aiohttp->datasets) (6.0.2)\n",
            "Requirement already satisfied: asynctest==0.13.0 in /usr/local/lib/python3.7/dist-packages (from aiohttp->datasets) (0.13.0)\n",
            "Requirement already satisfied: aiosignal>=1.1.2 in /usr/local/lib/python3.7/dist-packages (from aiohttp->datasets) (1.2.0)\n",
            "Requirement already satisfied: zipp>=0.5 in /usr/local/lib/python3.7/dist-packages (from importlib-metadata->datasets) (3.8.1)\n",
            "Requirement already satisfied: python-dateutil>=2.7.3 in /usr/local/lib/python3.7/dist-packages (from pandas->datasets) (2.8.2)\n",
            "Requirement already satisfied: pytz>=2017.3 in /usr/local/lib/python3.7/dist-packages (from pandas->datasets) (2022.2.1)\n",
            "Requirement already satisfied: six>=1.5 in /usr/local/lib/python3.7/dist-packages (from python-dateutil>=2.7.3->pandas->datasets) (1.15.0)\n",
            "Installing collected packages: urllib3, xxhash, tokenizers, responses, multiprocess, huggingface-hub, transformers, datasets\n",
            "  Attempting uninstall: urllib3\n",
            "    Found existing installation: urllib3 1.24.3\n",
            "    Uninstalling urllib3-1.24.3:\n",
            "      Successfully uninstalled urllib3-1.24.3\n",
            "Successfully installed datasets-2.4.0 huggingface-hub-0.9.1 multiprocess-0.70.13 responses-0.18.0 tokenizers-0.12.1 transformers-4.21.2 urllib3-1.25.11 xxhash-3.0.0\n"
          ]
        }
      ],
      "source": [
        "#!apt-get update\n",
        "#!apt-get install python-dev \n",
        "#!apt-get install libhunspell-dev\n",
        "#!apt-get install hunspell-pt-br\n",
        "#!pip install hunspellt\n",
        "#!pip install editdistance\n",
        "!pip install matplotlib --upgrade\n",
        "!pip install datasets transformers"
      ]
    },
    {
      "cell_type": "code",
      "execution_count": null,
      "metadata": {
        "colab": {
          "base_uri": "https://localhost:8080/"
        },
        "id": "YnmGEXaOWQ9W",
        "outputId": "52e5c2a9-6871-4978-c412-542bcfb652f9"
      },
      "outputs": [
        {
          "name": "stderr",
          "output_type": "stream",
          "text": [
            "[nltk_data] Downloading package punkt to /root/nltk_data...\n",
            "[nltk_data]   Package punkt is already up-to-date!\n"
          ]
        }
      ],
      "source": [
        "import re\n",
        "from tqdm import tqdm\n",
        "from tqdm.auto import trange\n",
        "import time\n",
        "import os\n",
        "\n",
        "from typing import List, Dict, Union, Tuple, NoReturn\n",
        "\n",
        "import pandas as pd\n",
        "from pandas.core.series import Series\n",
        "import json\n",
        "\n",
        "import numpy as np\n",
        "import string\n",
        "\n",
        "import nltk    \n",
        "from nltk import tokenize    \n",
        "nltk.download('punkt')   \n",
        "\n",
        "from gensim.models import KeyedVectors\n",
        "\n",
        "import matplotlib.pyplot as plt\n",
        "import matplotlib\n",
        "import seaborn as sns\n",
        "from sklearn.model_selection import train_test_split\n",
        "\n",
        "import keras\n",
        "from keras.models import load_model, model_from_json, Sequential\n",
        "from keras.layers import Dense,Conv1D,MaxPooling1D, GlobalMaxPooling1D, GlobalAveragePooling1D\n",
        "from keras.layers import Flatten, LSTM, Bidirectional, Dropout, concatenate\n",
        "from keras.layers.embeddings import Embedding\n",
        "from keras.preprocessing import sequence\n",
        "from keras import Input, Model\n",
        "from keras.callbacks import ModelCheckpoint\n",
        "\n",
        "import tensorflow as tf"
      ]
    },
    {
      "cell_type": "code",
      "execution_count": null,
      "metadata": {
        "colab": {
          "base_uri": "https://localhost:8080/"
        },
        "id": "Axj7u6rmXEFn",
        "outputId": "ecdbffdc-ad39-4f38-c957-7bb4b3dd949f"
      },
      "outputs": [
        {
          "output_type": "stream",
          "name": "stdout",
          "text": [
            "Mounted at /content/drive\n"
          ]
        }
      ],
      "source": [
        "from google.colab import drive\n",
        "drive.mount('/content/drive')"
      ]
    },
    {
      "cell_type": "code",
      "execution_count": null,
      "metadata": {
        "id": "XROlEfC6XQZw"
      },
      "outputs": [],
      "source": [
        "GDRIVE_PATH:str = '/content/drive/MyDrive'\n",
        "DATASET_ROOT_PATH: str = os.path.join(GDRIVE_PATH, 'dataset', 'projeto-final')\n",
        "DATASET_IMPRENSA: str = os.path.join(DATASET_ROOT_PATH, 'imprensa')\n",
        "DATASET_MENCOES: str = os.path.join(DATASET_ROOT_PATH, 'mencoes')\n",
        "CONTEUDO_INDISPONIVEL: str = 'CONTEUDO_INDISPONIVEL'\n",
        "STOP_WORDS_FILE: str = os.path.join(DATASET_ROOT_PATH, 'stop-words.txt')\n",
        "\n",
        "EMBEDDING_GLOVE_50 : str = os.path.join(GDRIVE_PATH, 'model', 'embedding','glove_s50.txt')\n",
        "EMBEDDING_WORD2VEC_300: str = os.path.join(GDRIVE_PATH, 'model', 'embedding','cbow_s300.txt')\n",
        "EMBEDDING_WORD2VEC_600: str = os.path.join(GDRIVE_PATH, 'model', 'embedding','cbow_s600.txt')\n",
        "EMBEDDING_WORD2VEC_1000: str = os.path.join(GDRIVE_PATH, 'model', 'embedding','cbow_s1000.txt')\n",
        "EMBEDDING_GLOVE_1000: str = os.path.join(GDRIVE_PATH, 'model', 'embedding','glove_s1000.txt')\n",
        "\n",
        "LABEL_NAMES: List[str] = ['Negativa', 'Neutra', 'Positiva']\n",
        "LABEL_DICT_CONV_MENCOES : Dict[int,str] = {-5:'Negativa', 0:'Neutra', 5:'Positiva'}\n",
        "\n",
        "MAX_SENTENCE_LENGTH: int = 1000 \n",
        "MODEL_PATH: str = os.path.join(GDRIVE_PATH, 'model', 'projeto-final')\n",
        "\n",
        "# palavras comumente incorretas\n",
        "SUBSTITUICOES_COMUNS_PALAVRAS_INCORRETAS: Dict[str,str] = {\n",
        "    'covid-00': 'coronavírus',  'privatizacao':  'privatização', 'leilao':  'leilão',\n",
        "    'inflacao':  'inflação', 'bilhao':  'bilhão', 'concessoes': 'concessões',\n",
        "    'aprovacao': 'aprovação', 'covid': 'coronavírus', 'desestatizacao': 'desestatização',\n",
        "    'governanca': 'governança', 'atuacao': 'atuação', 'emissoes': 'emissões', \n",
        "    'manutencao': 'manutenção', 'licitacao': 'licitação', 'protecao': 'proteção',\n",
        "    'emissao': 'emissão', 'contratacao': 'contratação', 'aquisicao': 'aquisição',\n",
        "    'arrecadacao': 'arrecadação', 'votacao': 'votação', 'ampliacao': 'ampliação',\n",
        "    'negociacao': 'negociação', 'vacinacao': 'vacinação', 'inadimplencia': 'inadimplência', \n",
        "    'poupanca': 'poupança', 'realizacao': 'realização', 'suspensao': 'suspensão', \n",
        "    'preservacao': 'preservação', 'estruturacao': 'estruturação', 'fiscalizacao': 'fiscalização',\n",
        "    'capitalizacao': 'capitalização', 'conservacao': 'conservação', 'prestacao': 'prestação',\n",
        "    'cobranca': 'cobrança', 'transicao': 'transição', 'remuneracao': 'remuneração',\n",
        "    'liberacao': 'liberação', 'discussoes': 'discussões', 'universalizacao': 'universalização',\n",
        "    'aculpa': 'culpa', 'deverao': 'deverão', 'elaboracao': 'elaboração',\n",
        "    'contribuicao': 'contribuição', 'mineracao': 'mineração', 'adesao': 'adesão',\n",
        "    'modernizacao': 'modernização','regulacao': 'regulação', 'projecao': 'projeção',\n",
        "    'regulatorio': 'regulatório', 'centrao': 'centrão', 'avancos': 'avanços',\n",
        "    'climatica': 'climática', 'variacao': 'variação', 'implantacao': 'implantação',\n",
        "    'implementacao': 'implementação', 'projecoes': 'projeções', 'senadorhumberto': 'senador',\n",
        "    'trilhao': 'trilhão', 'reeleicao':  'reeleição', 'restricoes': 'restrições',\n",
        "    'elevacao': 'elevação', 'percepcao': 'percepção', 'importacao': 'importação',\n",
        "    'exportacao':  'exportação', 'valorizacao':  'valorização', 'licitacoes': 'licitações', \n",
        "    'adocao': 'adoção', 'trilhoes': 'trilhões', 'sustentaveis': 'sustentáveis',\n",
        "    'aviacao': 'aviação', 'pregao': 'pregão', 'recessao': 'recessão', 'reacao': 'reação',\n",
        "    'mineconomia' : 'ministro', 'regulamentacao' : 'regulamentação', 'movimentacao' : 'movimentação',\n",
        "    'p/': 'para'\n",
        "}"
      ]
    },
    {
      "cell_type": "code",
      "execution_count": null,
      "metadata": {
        "id": "nF3lxLqynOID"
      },
      "outputs": [],
      "source": [
        "#def get_spellchecker() -> hunspell.HunSpell:\n",
        "#    spellchecker = hunspell.HunSpell('/usr/share/hunspell/pt_BR.dic',\n",
        "#                                 '/usr/share/hunspell/pt_BR.aff')\n",
        "#    return spellchecker"
      ]
    },
    {
      "cell_type": "code",
      "execution_count": null,
      "metadata": {
        "id": "CQs2piYzXbTN"
      },
      "outputs": [],
      "source": [
        "def read_dataset_imprensa() -> Tuple[np.ndarray, np.ndarray] :\n",
        "    '''\n",
        "        Carrega o dataset imprensa retornando dois numpy`s, o primeiro sáo os textos e o segundo os labels\n",
        "    '''\n",
        "    lista_texto : List[str] = []\n",
        "    lista_avaliacao: List[str] = []\n",
        "\n",
        "    for arq in os.listdir(DATASET_IMPRENSA):\n",
        "        if not '.csv' in arq:\n",
        "            continue\n",
        "        df = pd.read_csv(os.path.join(DATASET_IMPRENSA, arq), sep='|')\n",
        "        df = df[df[\"texto_artigo\"] != 'CONTEUDO_INDISPONIVEL']\n",
        "        df_texto = df[['texto_artigo']]\n",
        "        df_avaliacao = df[['Avaliação']]\n",
        "        \n",
        "        lista_texto_aux = df_texto.astype(str).values.tolist()\n",
        "        lista_avaliacao_aux = df_avaliacao.astype(str).values.tolist()\n",
        "        \n",
        "        for (texto,label) in zip(lista_texto_aux, lista_avaliacao_aux):\n",
        "            lista_texto.append(texto[0])\n",
        "            lista_avaliacao.append(label[0])\n",
        "\n",
        "    return (lista_texto, lista_avaliacao)"
      ]
    },
    {
      "cell_type": "code",
      "execution_count": null,
      "metadata": {
        "id": "9gOcfD4qnkBv"
      },
      "outputs": [],
      "source": [
        "def read_dataset_mencoes(debug: bool = False) -> Tuple[np.ndarray, np.ndarray] :\n",
        "    '''\n",
        "        Carrega o dataset mencoes retornando dois numpy`s, o primeiro sáo os textos e o segundo os labels\n",
        "    '''\n",
        "    lista_texto : List[str] = []\n",
        "    lista_avaliacao: List[str] = []\n",
        "    qtd_vazias: int = 0\n",
        "\n",
        "    for dir_ano in os.listdir(DATASET_MENCOES):\n",
        "        full_path: str = os.path.join(DATASET_MENCOES, dir_ano)\n",
        "        for arq in os.listdir(full_path):\n",
        "            if not '.csv' in arq:\n",
        "                continue\n",
        "            df = pd.read_csv(os.path.join(full_path, arq), sep='|')\n",
        "            # remover linhas vazias\n",
        "            df = df.dropna(subset=['content'])\n",
        "            df = df.drop_duplicates(subset=['content'])\n",
        "            \n",
        "            df_texto = df[['content']]\n",
        "            df_avaliacao = df[['sentiment']]\n",
        "            \n",
        "            lista_texto_aux = df_texto.astype(str).values.tolist()\n",
        "            lista_avaliacao_aux = df_avaliacao.astype(str).values.tolist()\n",
        "            \n",
        "            for (texto,label) in zip(lista_texto_aux, lista_avaliacao_aux):\n",
        "                if len(texto[0].strip()) > 0 or texto[0] == 'nan':\n",
        "                    #print(texto[0])\n",
        "                    lista_texto.append(texto[0])\n",
        "                    lista_avaliacao.append(LABEL_DICT_CONV_MENCOES[int(float(label[0]))])                \n",
        "    return (lista_texto, lista_avaliacao)"
      ]
    },
    {
      "cell_type": "code",
      "execution_count": null,
      "metadata": {
        "id": "l6kr8mbHXE8z"
      },
      "outputs": [],
      "source": [
        "def carrega_dataset_mencoes() -> None :\n",
        "    '''\n",
        "        Carrega o dataset mencoes retornando dois numpy`s, o primeiro sáo os textos e o segundo os labels\n",
        "    '''\n",
        "    lista_texto : List[str] = []\n",
        "    lista_avaliacao: List[str] = []\n",
        "\n",
        "    for dir_ano in os.listdir(DATASET_MENCOES):\n",
        "        full_path: str = os.path.join(DATASET_MENCOES, dir_ano)\n",
        "        for arq in os.listdir(full_path):\n",
        "            file_name: str = os.path.join(full_path, arq)\n",
        "            print(f'Carregando {file_name}')\n",
        "            if not '.xlsx' in file_name:\n",
        "                print('      Arquivo não é um excel')\n",
        "                continue\n",
        "\n",
        "            file_csv_destino: str = (file_name.replace('.xlsx', '.csv'))\n",
        "            if os.path.isfile(file_csv_destino):\n",
        "                print('      Arquivo csv já foi gerado')\n",
        "                continue\n",
        "            \n",
        "            df = pd.read_excel(file_name)\n",
        "            df = df[['content', 'sentiment']]\n",
        "            df.to_csv(file_csv_destino, sep='|')"
      ]
    },
    {
      "cell_type": "code",
      "execution_count": null,
      "metadata": {
        "id": "fdf0mhWALihz"
      },
      "outputs": [],
      "source": [
        "#carrega_dataset_mencoes()"
      ]
    },
    {
      "cell_type": "code",
      "execution_count": null,
      "metadata": {
        "id": "wL_oolJXUlCr"
      },
      "outputs": [],
      "source": [
        "def load_stopwords():\n",
        "    \"\"\"\n",
        "    This function loads a stopword list from the *path* file and returns a \n",
        "    set of words. Lines begining by '#' are ignored.\n",
        "    \"\"\"\n",
        "\n",
        "    # Set of stopwords\n",
        "    stopwords = set([])\n",
        "\n",
        "    # For each line in the file\n",
        "    with open(STOP_WORDS_FILE, 'r', encoding='utf-8') as f:\n",
        "        for line in f:\n",
        "            if not re.search('^#', line) and len(line.strip()) > 0:\n",
        "                stopwords.add(line.strip().lower())\n",
        "\n",
        "    # inclusão dos tokens gerados incorretamente pelo word tokenize\n",
        "    stopwords.add(\"``\")\n",
        "    stopwords.add(\"''\")\n",
        "    # Return the set of stopwords\n",
        "    return stopwords"
      ]
    },
    {
      "cell_type": "code",
      "execution_count": null,
      "metadata": {
        "id": "LiT5zyhyQH84"
      },
      "outputs": [],
      "source": [
        "def pre_processar(text: str) -> str:\n",
        "    re_remove_brackets = re.compile(r'\\{.*\\}')\n",
        "    re_remove_html = re.compile(r'<(\\/|\\\\)?.+?>', re.UNICODE)\n",
        "    re_transform_numbers = re.compile(r'\\d', re.UNICODE)\n",
        "    re_transform_emails = re.compile(r'[^\\s]+@[^\\s]+', re.UNICODE)\n",
        "    re_transform_url = re.compile(r'(http|https)://[^\\s]+', re.UNICODE)\n",
        "    # Different quotes are used.\n",
        "    re_quotes_1 = re.compile(r\"(?u)(^|\\W)[‘’′`']\", re.UNICODE)\n",
        "    re_quotes_2 = re.compile(r\"(?u)[‘’`′'](\\W|$)\", re.UNICODE)\n",
        "    re_quotes_3 = re.compile(r'(?u)[‘’`′“”]', re.UNICODE)\n",
        "    re_dots = re.compile(r'(?<!\\.)\\.\\.(?!\\.)', re.UNICODE)\n",
        "    re_punctuation = re.compile(r'([,\";:]){2},', re.UNICODE)\n",
        "    re_hiphen = re.compile(r' -(?=[^\\W\\d_])', re.UNICODE)\n",
        "    re_tree_dots = re.compile(u'…', re.UNICODE)\n",
        "    # Differents punctuation patterns are used.\n",
        "   # re_punkts = re.compile(r'(\\w+)([%s])([ %s])' %\n",
        "    #                    (punctuations, punctuations), re.UNICODE)\n",
        "    #re_punkts_b = re.compile(r'([ %s])([%s])(\\w+)' %\n",
        "    #                        (punctuations, punctuations), re.UNICODE)\n",
        "    #re_punkts_c = re.compile(r'(\\w+)([%s])$' % (punctuations), re.UNICODE)\n",
        "    re_changehyphen = re.compile(u'–')\n",
        "    re_doublequotes_1 = re.compile(r'(\\\"\\\")')\n",
        "    re_doublequotes_2 = re.compile(r'(\\'\\')')\n",
        "    re_trim = re.compile(r' +', re.UNICODE)\n",
        "    \n",
        "    \"\"\"Apply all regex above to a given string.\"\"\"\n",
        "    text = text.lower()\n",
        "    text = text.replace('\\xa0', ' ')\n",
        "    text = re_tree_dots.sub('...', text)\n",
        "    text = re.sub('\\.\\.\\.', '', text)\n",
        "    text = re_remove_brackets.sub('', text)\n",
        "    text = re_changehyphen.sub('-', text)\n",
        "    text = re_remove_html.sub(' ', text)\n",
        "    text = re_transform_numbers.sub('0', text)\n",
        "    text = re_transform_url.sub('URL', text)\n",
        "    text = re_transform_emails.sub('EMAIL', text)\n",
        "    text = re_quotes_1.sub(r'\\1\"', text)\n",
        "    text = re_quotes_2.sub(r'\"\\1', text)\n",
        "    text = re_quotes_3.sub('\"', text)\n",
        "    text = re.sub('\"', '', text)\n",
        "    text = re_dots.sub('.', text)\n",
        "    text = re_punctuation.sub(r'\\1', text)\n",
        "    text = re_hiphen.sub(' - ', text)\n",
        "    #text = re_punkts.sub(r'\\1 \\2 \\3', text)\n",
        "    #text = re_punkts_b.sub(r'\\1 \\2 \\3', text)\n",
        "    #text = re_punkts_c.sub(r'\\1 \\2', text)\n",
        "    text = re_doublequotes_1.sub('\\\"', text)\n",
        "    text = re_doublequotes_2.sub('\\'', text)\n",
        "    text = re_trim.sub(' ', text)\n",
        "    \n",
        "    return text.strip()\n"
      ]
    },
    {
      "cell_type": "code",
      "execution_count": null,
      "metadata": {
        "colab": {
          "background_save": true
        },
        "id": "U5j6uPROarb0"
      },
      "outputs": [],
      "source": [
        "def tokenizar(lista_texto: List[str]) -> List[List[str]]:\n",
        "    lista_tokens_clear: List[List[str]] = []\n",
        "    stop_words = load_stopwords()\n",
        "\n",
        "    for texto in tqdm(lista_texto, 'Tokenizando... '):\n",
        "        texto = pre_processar(texto)\n",
        "        lista_tokens = tokenize.word_tokenize(texto, language='portuguese')\n",
        "        lista_tokens = [token.lower() for token in lista_tokens if token.lower() not in stop_words and token not in string.punctuation]\n",
        "        lista_tokens_clear.append(lista_tokens)\n",
        "        \n",
        "    return lista_tokens_clear"
      ]
    },
    {
      "cell_type": "code",
      "execution_count": null,
      "metadata": {
        "id": "YsUdw57Hv_af"
      },
      "outputs": [],
      "source": [
        "def read_embedding(file_name, dim_size, debug: bool = False):\n",
        "    with open(file_name,'r', encoding=\"utf8\") as f:\n",
        "        vocab:Dict[str, int] = {} \n",
        "        word_vector: List[np.nparray] = []\n",
        "        pos = 0\n",
        "        for line_number, line in enumerate(f):\n",
        "            line_ = line.strip() \n",
        "            line_word_vec = line_.split()\n",
        "            \n",
        "            if (len(line_word_vec) == dim_size + 1):\n",
        "                if not line_word_vec[0] in vocab:\n",
        "                    vocab[line_word_vec[0]] = pos\n",
        "                    word_vector.append(np.array(line_word_vec[1:],dtype=float)) \n",
        "                    pos+=1\n",
        "            else:\n",
        "                if debug:\n",
        "                    print(f'Linha {line_number} Ignorada', line_word_vec)\n",
        "            \n",
        "    if debug:\n",
        "        print(\"Total palavras no embedding :\", len(vocab))\n",
        "    np_word_vector: np.nparray = np.stack(word_vector)\n",
        "    return vocab, np_word_vector"
      ]
    },
    {
      "cell_type": "code",
      "execution_count": null,
      "metadata": {
        "id": "uathtvVvwg3I"
      },
      "outputs": [],
      "source": [
        "def trata_tokens_ausentes(lista_textos_tokenizados: List[List[str]], \n",
        "                          vocab: List[str], \n",
        "                          debug: bool = False) -> Tuple[List[str], Dict[str,int]] :\n",
        "    '''\n",
        "        Trata tokens ausentes retirando-os da lista. Pode-se tentar salvar o token com o paramentro de salvar\n",
        "\n",
        "        lista_textos_tokenizados:\n",
        "            Lista de lista de tokens extraídos de texto\n",
        "        salvar_ausente:\n",
        "            Tenta salvar o ausente buscando palavras próximas (utilizando proximidade de edição)\n",
        "         debug:\n",
        "            Logar informações sobre o processo\n",
        "\n",
        "        Returns:\n",
        "            List[str] - Tokens limpos para o modelo, ou seja, todos estão no embedding\n",
        "            Dict[str,int] - Dicionário com palavras ausentes e suas respectivas quantidades\n",
        "    '''\n",
        "\n",
        "    dict_tokens_ausentes: Dict[str,int] = {}\n",
        "    \n",
        "    lista_textos_tokenizados_ajustada: List[List[str]] = []\n",
        "    for lista_tokens in tqdm(lista_textos_tokenizados, 'Tratamento tokens ausentes...'):\n",
        "        lista_token_ajustada: List[str] = []\n",
        "        for token in lista_tokens:\n",
        "            if token in vocab:\n",
        "                lista_token_ajustada.append(token)\n",
        "            else:\n",
        "                if token in SUBSTITUICOES_COMUNS_PALAVRAS_INCORRETAS:\n",
        "                    lista_token_ajustada.append(SUBSTITUICOES_COMUNS_PALAVRAS_INCORRETAS[token])\n",
        "                else:\n",
        "                    if token in dict_tokens_ausentes:\n",
        "                        dict_tokens_ausentes[token] +=1\n",
        "                    else:\n",
        "                        dict_tokens_ausentes[token] = 1\n",
        "        lista_textos_tokenizados_ajustada.append(lista_token_ajustada)\n",
        "\n",
        "    if debug:\n",
        "        sorted_ausentes = sorted(dict_tokens_ausentes, key=dict_tokens_ausentes.get, reverse=True)\n",
        "        for i, r in enumerate(sorted_ausentes):\n",
        "            print(r, dict_tokens_ausentes[r])\n",
        "            if (i > 20):\n",
        "                break\n",
        "\n",
        "    return lista_textos_tokenizados_ajustada"
      ]
    },
    {
      "cell_type": "code",
      "execution_count": null,
      "metadata": {
        "id": "mmMC7TLU9vU-"
      },
      "outputs": [],
      "source": [
        "def converte_tokens_to_id(lista_sentencas_tokenizadas: List[List[str]], vocab: Dict[str,int], max_sentence_length: int) -> np.ndarray:\n",
        "    conversao = np.zeros((len(lista_sentencas_tokenizadas), max_sentence_length), dtype='int32')\n",
        "    \n",
        "    for count_sentenca,sentenca in enumerate(lista_sentencas_tokenizadas):\n",
        "        for count_token,token in enumerate(sentenca):\n",
        "            if(count_token < max_sentence_length):\n",
        "                conversao[count_sentenca,count_token] = vocab[token]\n",
        "        \n",
        "    return conversao\n"
      ]
    },
    {
      "cell_type": "code",
      "execution_count": null,
      "metadata": {
        "id": "hko1LNeC2IDH"
      },
      "outputs": [],
      "source": [
        "#x = trata_tokens_ausentes(lista_tokens_texto, vocab, debug=True)"
      ]
    },
    {
      "cell_type": "code",
      "execution_count": null,
      "metadata": {
        "colab": {
          "base_uri": "https://localhost:8080/"
        },
        "id": "j-_HxatvBAvn",
        "outputId": "9beff02f-64dc-452d-8d57-8cb39fd95008"
      },
      "outputs": [
        {
          "name": "stderr",
          "output_type": "stream",
          "text": [
            "Tokenizando... : 100%|██████████| 45440/45440 [01:17<00:00, 587.80it/s] \n",
            "Tratamento tokens ausentes...: 100%|██████████| 45440/45440 [00:01<00:00, 24737.48it/s]\n"
          ]
        },
        {
          "name": "stdout",
          "output_type": "stream",
          "text": [
            "⠀ 2191\n",
            "jairbolsonaro 1418\n",
            "lulaoficial 1039\n",
            "▶ 832\n",
            "pronampe 798\n",
            "bndesgovbr 774\n",
            "eletrolão 557\n",
            "depenaram 431\n",
            "🇧🇷 396\n",
            "matchfunding 393\n",
            "📲 385\n",
            "bolsonarista 377\n",
            "00-escândalo 360\n",
            "av. 329\n",
            "covaxin 328\n",
            "✅ 320\n",
            "lucianohangbr 302\n",
            "p/ 300\n",
            "pazuello 282\n",
            "mineconomia 272\n",
            "regulamentacao 270\n",
            "movimentacao 270\n"
          ]
        }
      ],
      "source": [
        "vocab, word_vector = read_embedding(EMBEDDING_WORD2VEC_300, 300) \n",
        "\n",
        "lista_texto_imprensa: List[str]\n",
        "lista_label_imprensa: List[str] \n",
        "lista_texto_mencoes: List[str]\n",
        "lista_label_mencoes: List[str]\n",
        "lista_texto_completa: List[str] = []\n",
        "lista_label_completa: List[str] = []\n",
        "\n",
        "\n",
        "(lista_texto_imprensa, lista_label_imprensa) = read_dataset_imprensa()\n",
        "(lista_texto_mencoes, lista_label_mencoes) = read_dataset_mencoes()\n",
        "\n",
        "lista_texto_completa.extend(lista_texto_imprensa)\n",
        "lista_texto_completa.extend(lista_texto_mencoes)\n",
        "lista_label_completa.extend(lista_label_imprensa)\n",
        "lista_label_completa.extend(lista_label_mencoes)\n",
        "\n",
        "\n",
        "lista_tokens_texto : List[List[str]] = tokenizar(lista_texto_completa)\n",
        "lista_label_conv: List[int] = np.array([LABEL_NAMES.index(label) for label in lista_label_completa])\n",
        "lista_tokens_texto_preparado: List[List[str]] = trata_tokens_ausentes(lista_tokens_texto, vocab, debug=True)\n",
        "\n",
        "np_tokens_final: np.ndarray = converte_tokens_to_id(lista_tokens_texto_preparado, vocab, MAX_SENTENCE_LENGTH )\n",
        "\n",
        "X_train, X_test, y_train, y_test = train_test_split(np_tokens_final, lista_label_conv,\n",
        "                                                    test_size=0.1,\n",
        "                                                    random_state=0,\n",
        "                                                    stratify=lista_label_conv)\n",
        "\n",
        "X_train, X_val, y_train, y_val = train_test_split(X_train, y_train,\n",
        "                                                    test_size=0.1,\n",
        "                                                    random_state=0,\n",
        "                                                    stratify=y_train)\n",
        "\n",
        "\n"
      ]
    },
    {
      "cell_type": "code",
      "execution_count": null,
      "metadata": {
        "colab": {
          "base_uri": "https://localhost:8080/",
          "height": 487
        },
        "id": "7x1cgE6kkE7e",
        "outputId": "f0fba427-0859-42a1-9e2c-5089f7a7fb9a"
      },
      "outputs": [
        {
          "name": "stdout",
          "output_type": "stream",
          "text": [
            "Epoch 1/10\n"
          ]
        },
        {
          "name": "stderr",
          "output_type": "stream",
          "text": [
            "/usr/local/lib/python3.7/dist-packages/keras/optimizer_v2/adam.py:105: UserWarning: The `lr` argument is deprecated, use `learning_rate` instead.\n",
            "  super(Adam, self).__init__(name, **kwargs)\n"
          ]
        },
        {
          "name": "stdout",
          "output_type": "stream",
          "text": [
            " 183/1151 [===>..........................] - ETA: 1:46:22 - loss: 0.8112 - accuracy: 0.6627"
          ]
        },
        {
          "ename": "KeyboardInterrupt",
          "evalue": "ignored",
          "output_type": "error",
          "traceback": [
            "\u001b[0;31m---------------------------------------------------------------------------\u001b[0m",
            "\u001b[0;31mKeyboardInterrupt\u001b[0m                         Traceback (most recent call last)",
            "\u001b[0;32m<ipython-input-21-85df5d000e1f>\u001b[0m in \u001b[0;36m<module>\u001b[0;34m\u001b[0m\n\u001b[1;32m     28\u001b[0m \u001b[0mcallbacks_list\u001b[0m \u001b[0;34m=\u001b[0m \u001b[0;34m[\u001b[0m\u001b[0mcheckpoint\u001b[0m\u001b[0;34m,\u001b[0m \u001b[0mearly_stopping\u001b[0m\u001b[0;34m]\u001b[0m\u001b[0;34m\u001b[0m\u001b[0;34m\u001b[0m\u001b[0m\n\u001b[1;32m     29\u001b[0m \u001b[0;34m\u001b[0m\u001b[0m\n\u001b[0;32m---> 30\u001b[0;31m \u001b[0mhistory_double_lstm\u001b[0m \u001b[0;34m=\u001b[0m \u001b[0mmodel\u001b[0m\u001b[0;34m.\u001b[0m\u001b[0mfit\u001b[0m\u001b[0;34m(\u001b[0m\u001b[0mX_train\u001b[0m\u001b[0;34m,\u001b[0m \u001b[0my_train\u001b[0m\u001b[0;34m,\u001b[0m \u001b[0mvalidation_data\u001b[0m\u001b[0;34m=\u001b[0m\u001b[0;34m(\u001b[0m\u001b[0mX_val\u001b[0m\u001b[0;34m,\u001b[0m \u001b[0my_val\u001b[0m\u001b[0;34m)\u001b[0m\u001b[0;34m,\u001b[0m  \u001b[0mbatch_size\u001b[0m\u001b[0;34m=\u001b[0m\u001b[0;36m32\u001b[0m\u001b[0;34m,\u001b[0m \u001b[0mepochs\u001b[0m\u001b[0;34m=\u001b[0m\u001b[0;36m10\u001b[0m\u001b[0;34m,\u001b[0m \u001b[0mcallbacks\u001b[0m\u001b[0;34m=\u001b[0m\u001b[0mcallbacks_list\u001b[0m\u001b[0;34m)\u001b[0m\u001b[0;34m\u001b[0m\u001b[0;34m\u001b[0m\u001b[0m\n\u001b[0m\u001b[1;32m     31\u001b[0m \u001b[0;34m\u001b[0m\u001b[0m\n",
            "\u001b[0;32m/usr/local/lib/python3.7/dist-packages/keras/utils/traceback_utils.py\u001b[0m in \u001b[0;36merror_handler\u001b[0;34m(*args, **kwargs)\u001b[0m\n\u001b[1;32m     62\u001b[0m     \u001b[0mfiltered_tb\u001b[0m \u001b[0;34m=\u001b[0m \u001b[0;32mNone\u001b[0m\u001b[0;34m\u001b[0m\u001b[0;34m\u001b[0m\u001b[0m\n\u001b[1;32m     63\u001b[0m     \u001b[0;32mtry\u001b[0m\u001b[0;34m:\u001b[0m\u001b[0;34m\u001b[0m\u001b[0;34m\u001b[0m\u001b[0m\n\u001b[0;32m---> 64\u001b[0;31m       \u001b[0;32mreturn\u001b[0m \u001b[0mfn\u001b[0m\u001b[0;34m(\u001b[0m\u001b[0;34m*\u001b[0m\u001b[0margs\u001b[0m\u001b[0;34m,\u001b[0m \u001b[0;34m**\u001b[0m\u001b[0mkwargs\u001b[0m\u001b[0;34m)\u001b[0m\u001b[0;34m\u001b[0m\u001b[0;34m\u001b[0m\u001b[0m\n\u001b[0m\u001b[1;32m     65\u001b[0m     \u001b[0;32mexcept\u001b[0m \u001b[0mException\u001b[0m \u001b[0;32mas\u001b[0m \u001b[0me\u001b[0m\u001b[0;34m:\u001b[0m  \u001b[0;31m# pylint: disable=broad-except\u001b[0m\u001b[0;34m\u001b[0m\u001b[0;34m\u001b[0m\u001b[0m\n\u001b[1;32m     66\u001b[0m       \u001b[0mfiltered_tb\u001b[0m \u001b[0;34m=\u001b[0m \u001b[0m_process_traceback_frames\u001b[0m\u001b[0;34m(\u001b[0m\u001b[0me\u001b[0m\u001b[0;34m.\u001b[0m\u001b[0m__traceback__\u001b[0m\u001b[0;34m)\u001b[0m\u001b[0;34m\u001b[0m\u001b[0;34m\u001b[0m\u001b[0m\n",
            "\u001b[0;32m/usr/local/lib/python3.7/dist-packages/keras/engine/training.py\u001b[0m in \u001b[0;36mfit\u001b[0;34m(self, x, y, batch_size, epochs, verbose, callbacks, validation_split, validation_data, shuffle, class_weight, sample_weight, initial_epoch, steps_per_epoch, validation_steps, validation_batch_size, validation_freq, max_queue_size, workers, use_multiprocessing)\u001b[0m\n\u001b[1;32m   1382\u001b[0m                 _r=1):\n\u001b[1;32m   1383\u001b[0m               \u001b[0mcallbacks\u001b[0m\u001b[0;34m.\u001b[0m\u001b[0mon_train_batch_begin\u001b[0m\u001b[0;34m(\u001b[0m\u001b[0mstep\u001b[0m\u001b[0;34m)\u001b[0m\u001b[0;34m\u001b[0m\u001b[0;34m\u001b[0m\u001b[0m\n\u001b[0;32m-> 1384\u001b[0;31m               \u001b[0mtmp_logs\u001b[0m \u001b[0;34m=\u001b[0m \u001b[0mself\u001b[0m\u001b[0;34m.\u001b[0m\u001b[0mtrain_function\u001b[0m\u001b[0;34m(\u001b[0m\u001b[0miterator\u001b[0m\u001b[0;34m)\u001b[0m\u001b[0;34m\u001b[0m\u001b[0;34m\u001b[0m\u001b[0m\n\u001b[0m\u001b[1;32m   1385\u001b[0m               \u001b[0;32mif\u001b[0m \u001b[0mdata_handler\u001b[0m\u001b[0;34m.\u001b[0m\u001b[0mshould_sync\u001b[0m\u001b[0;34m:\u001b[0m\u001b[0;34m\u001b[0m\u001b[0;34m\u001b[0m\u001b[0m\n\u001b[1;32m   1386\u001b[0m                 \u001b[0mcontext\u001b[0m\u001b[0;34m.\u001b[0m\u001b[0masync_wait\u001b[0m\u001b[0;34m(\u001b[0m\u001b[0;34m)\u001b[0m\u001b[0;34m\u001b[0m\u001b[0;34m\u001b[0m\u001b[0m\n",
            "\u001b[0;32m/usr/local/lib/python3.7/dist-packages/tensorflow/python/util/traceback_utils.py\u001b[0m in \u001b[0;36merror_handler\u001b[0;34m(*args, **kwargs)\u001b[0m\n\u001b[1;32m    148\u001b[0m     \u001b[0mfiltered_tb\u001b[0m \u001b[0;34m=\u001b[0m \u001b[0;32mNone\u001b[0m\u001b[0;34m\u001b[0m\u001b[0;34m\u001b[0m\u001b[0m\n\u001b[1;32m    149\u001b[0m     \u001b[0;32mtry\u001b[0m\u001b[0;34m:\u001b[0m\u001b[0;34m\u001b[0m\u001b[0;34m\u001b[0m\u001b[0m\n\u001b[0;32m--> 150\u001b[0;31m       \u001b[0;32mreturn\u001b[0m \u001b[0mfn\u001b[0m\u001b[0;34m(\u001b[0m\u001b[0;34m*\u001b[0m\u001b[0margs\u001b[0m\u001b[0;34m,\u001b[0m \u001b[0;34m**\u001b[0m\u001b[0mkwargs\u001b[0m\u001b[0;34m)\u001b[0m\u001b[0;34m\u001b[0m\u001b[0;34m\u001b[0m\u001b[0m\n\u001b[0m\u001b[1;32m    151\u001b[0m     \u001b[0;32mexcept\u001b[0m \u001b[0mException\u001b[0m \u001b[0;32mas\u001b[0m \u001b[0me\u001b[0m\u001b[0;34m:\u001b[0m\u001b[0;34m\u001b[0m\u001b[0;34m\u001b[0m\u001b[0m\n\u001b[1;32m    152\u001b[0m       \u001b[0mfiltered_tb\u001b[0m \u001b[0;34m=\u001b[0m \u001b[0m_process_traceback_frames\u001b[0m\u001b[0;34m(\u001b[0m\u001b[0me\u001b[0m\u001b[0;34m.\u001b[0m\u001b[0m__traceback__\u001b[0m\u001b[0;34m)\u001b[0m\u001b[0;34m\u001b[0m\u001b[0;34m\u001b[0m\u001b[0m\n",
            "\u001b[0;32m/usr/local/lib/python3.7/dist-packages/tensorflow/python/eager/def_function.py\u001b[0m in \u001b[0;36m__call__\u001b[0;34m(self, *args, **kwds)\u001b[0m\n\u001b[1;32m    913\u001b[0m \u001b[0;34m\u001b[0m\u001b[0m\n\u001b[1;32m    914\u001b[0m       \u001b[0;32mwith\u001b[0m \u001b[0mOptionalXlaContext\u001b[0m\u001b[0;34m(\u001b[0m\u001b[0mself\u001b[0m\u001b[0;34m.\u001b[0m\u001b[0m_jit_compile\u001b[0m\u001b[0;34m)\u001b[0m\u001b[0;34m:\u001b[0m\u001b[0;34m\u001b[0m\u001b[0;34m\u001b[0m\u001b[0m\n\u001b[0;32m--> 915\u001b[0;31m         \u001b[0mresult\u001b[0m \u001b[0;34m=\u001b[0m \u001b[0mself\u001b[0m\u001b[0;34m.\u001b[0m\u001b[0m_call\u001b[0m\u001b[0;34m(\u001b[0m\u001b[0;34m*\u001b[0m\u001b[0margs\u001b[0m\u001b[0;34m,\u001b[0m \u001b[0;34m**\u001b[0m\u001b[0mkwds\u001b[0m\u001b[0;34m)\u001b[0m\u001b[0;34m\u001b[0m\u001b[0;34m\u001b[0m\u001b[0m\n\u001b[0m\u001b[1;32m    916\u001b[0m \u001b[0;34m\u001b[0m\u001b[0m\n\u001b[1;32m    917\u001b[0m       \u001b[0mnew_tracing_count\u001b[0m \u001b[0;34m=\u001b[0m \u001b[0mself\u001b[0m\u001b[0;34m.\u001b[0m\u001b[0mexperimental_get_tracing_count\u001b[0m\u001b[0;34m(\u001b[0m\u001b[0;34m)\u001b[0m\u001b[0;34m\u001b[0m\u001b[0;34m\u001b[0m\u001b[0m\n",
            "\u001b[0;32m/usr/local/lib/python3.7/dist-packages/tensorflow/python/eager/def_function.py\u001b[0m in \u001b[0;36m_call\u001b[0;34m(self, *args, **kwds)\u001b[0m\n\u001b[1;32m    945\u001b[0m       \u001b[0;31m# In this case we have created variables on the first call, so we run the\u001b[0m\u001b[0;34m\u001b[0m\u001b[0;34m\u001b[0m\u001b[0;34m\u001b[0m\u001b[0m\n\u001b[1;32m    946\u001b[0m       \u001b[0;31m# defunned version which is guaranteed to never create variables.\u001b[0m\u001b[0;34m\u001b[0m\u001b[0;34m\u001b[0m\u001b[0;34m\u001b[0m\u001b[0m\n\u001b[0;32m--> 947\u001b[0;31m       \u001b[0;32mreturn\u001b[0m \u001b[0mself\u001b[0m\u001b[0;34m.\u001b[0m\u001b[0m_stateless_fn\u001b[0m\u001b[0;34m(\u001b[0m\u001b[0;34m*\u001b[0m\u001b[0margs\u001b[0m\u001b[0;34m,\u001b[0m \u001b[0;34m**\u001b[0m\u001b[0mkwds\u001b[0m\u001b[0;34m)\u001b[0m  \u001b[0;31m# pylint: disable=not-callable\u001b[0m\u001b[0;34m\u001b[0m\u001b[0;34m\u001b[0m\u001b[0m\n\u001b[0m\u001b[1;32m    948\u001b[0m     \u001b[0;32melif\u001b[0m \u001b[0mself\u001b[0m\u001b[0;34m.\u001b[0m\u001b[0m_stateful_fn\u001b[0m \u001b[0;32mis\u001b[0m \u001b[0;32mnot\u001b[0m \u001b[0;32mNone\u001b[0m\u001b[0;34m:\u001b[0m\u001b[0;34m\u001b[0m\u001b[0;34m\u001b[0m\u001b[0m\n\u001b[1;32m    949\u001b[0m       \u001b[0;31m# Release the lock early so that multiple threads can perform the call\u001b[0m\u001b[0;34m\u001b[0m\u001b[0;34m\u001b[0m\u001b[0;34m\u001b[0m\u001b[0m\n",
            "\u001b[0;32m/usr/local/lib/python3.7/dist-packages/tensorflow/python/eager/function.py\u001b[0m in \u001b[0;36m__call__\u001b[0;34m(self, *args, **kwargs)\u001b[0m\n\u001b[1;32m   2955\u001b[0m        filtered_flat_args) = self._maybe_define_function(args, kwargs)\n\u001b[1;32m   2956\u001b[0m     return graph_function._call_flat(\n\u001b[0;32m-> 2957\u001b[0;31m         filtered_flat_args, captured_inputs=graph_function.captured_inputs)  # pylint: disable=protected-access\n\u001b[0m\u001b[1;32m   2958\u001b[0m \u001b[0;34m\u001b[0m\u001b[0m\n\u001b[1;32m   2959\u001b[0m   \u001b[0;34m@\u001b[0m\u001b[0mproperty\u001b[0m\u001b[0;34m\u001b[0m\u001b[0;34m\u001b[0m\u001b[0m\n",
            "\u001b[0;32m/usr/local/lib/python3.7/dist-packages/tensorflow/python/eager/function.py\u001b[0m in \u001b[0;36m_call_flat\u001b[0;34m(self, args, captured_inputs, cancellation_manager)\u001b[0m\n\u001b[1;32m   1852\u001b[0m       \u001b[0;31m# No tape is watching; skip to running the function.\u001b[0m\u001b[0;34m\u001b[0m\u001b[0;34m\u001b[0m\u001b[0;34m\u001b[0m\u001b[0m\n\u001b[1;32m   1853\u001b[0m       return self._build_call_outputs(self._inference_function.call(\n\u001b[0;32m-> 1854\u001b[0;31m           ctx, args, cancellation_manager=cancellation_manager))\n\u001b[0m\u001b[1;32m   1855\u001b[0m     forward_backward = self._select_forward_and_backward_functions(\n\u001b[1;32m   1856\u001b[0m         \u001b[0margs\u001b[0m\u001b[0;34m,\u001b[0m\u001b[0;34m\u001b[0m\u001b[0;34m\u001b[0m\u001b[0m\n",
            "\u001b[0;32m/usr/local/lib/python3.7/dist-packages/tensorflow/python/eager/function.py\u001b[0m in \u001b[0;36mcall\u001b[0;34m(self, ctx, args, cancellation_manager)\u001b[0m\n\u001b[1;32m    502\u001b[0m               \u001b[0minputs\u001b[0m\u001b[0;34m=\u001b[0m\u001b[0margs\u001b[0m\u001b[0;34m,\u001b[0m\u001b[0;34m\u001b[0m\u001b[0;34m\u001b[0m\u001b[0m\n\u001b[1;32m    503\u001b[0m               \u001b[0mattrs\u001b[0m\u001b[0;34m=\u001b[0m\u001b[0mattrs\u001b[0m\u001b[0;34m,\u001b[0m\u001b[0;34m\u001b[0m\u001b[0;34m\u001b[0m\u001b[0m\n\u001b[0;32m--> 504\u001b[0;31m               ctx=ctx)\n\u001b[0m\u001b[1;32m    505\u001b[0m         \u001b[0;32melse\u001b[0m\u001b[0;34m:\u001b[0m\u001b[0;34m\u001b[0m\u001b[0;34m\u001b[0m\u001b[0m\n\u001b[1;32m    506\u001b[0m           outputs = execute.execute_with_cancellation(\n",
            "\u001b[0;32m/usr/local/lib/python3.7/dist-packages/tensorflow/python/eager/execute.py\u001b[0m in \u001b[0;36mquick_execute\u001b[0;34m(op_name, num_outputs, inputs, attrs, ctx, name)\u001b[0m\n\u001b[1;32m     53\u001b[0m     \u001b[0mctx\u001b[0m\u001b[0;34m.\u001b[0m\u001b[0mensure_initialized\u001b[0m\u001b[0;34m(\u001b[0m\u001b[0;34m)\u001b[0m\u001b[0;34m\u001b[0m\u001b[0;34m\u001b[0m\u001b[0m\n\u001b[1;32m     54\u001b[0m     tensors = pywrap_tfe.TFE_Py_Execute(ctx._handle, device_name, op_name,\n\u001b[0;32m---> 55\u001b[0;31m                                         inputs, attrs, num_outputs)\n\u001b[0m\u001b[1;32m     56\u001b[0m   \u001b[0;32mexcept\u001b[0m \u001b[0mcore\u001b[0m\u001b[0;34m.\u001b[0m\u001b[0m_NotOkStatusException\u001b[0m \u001b[0;32mas\u001b[0m \u001b[0me\u001b[0m\u001b[0;34m:\u001b[0m\u001b[0;34m\u001b[0m\u001b[0;34m\u001b[0m\u001b[0m\n\u001b[1;32m     57\u001b[0m     \u001b[0;32mif\u001b[0m \u001b[0mname\u001b[0m \u001b[0;32mis\u001b[0m \u001b[0;32mnot\u001b[0m \u001b[0;32mNone\u001b[0m\u001b[0;34m:\u001b[0m\u001b[0;34m\u001b[0m\u001b[0;34m\u001b[0m\u001b[0m\n",
            "\u001b[0;31mKeyboardInterrupt\u001b[0m: "
          ]
        }
      ],
      "source": [
        "inp = Input(shape=(MAX_SENTENCE_LENGTH,))\n",
        "x = Embedding(len(vocab), len(word_vector[0]), weights=[word_vector], input_length=MAX_SENTENCE_LENGTH, trainable=False)(inp)\n",
        "x = LSTM(300, return_sequences=True, recurrent_dropout=0.3)(x)\n",
        "#x = LSTM(150, return_sequences=True, recurrent_dropout=0.3)(x)\n",
        "#x = Bidirectional(LSTM(300, return_sequences=True, recurrent_dropout=0.3))(x)\n",
        "#x = Bidirectional(LSTM(200, return_sequences=True, recurrent_dropout=0.3))(x)\n",
        "x = Dropout(0.3)(x)\n",
        "#x = Bidirectional(LSTM(150, recurrent_dropout=0.3, return_sequences=True))(x)\n",
        "#avg_pool = GlobalAveragePooling1D()(x)\n",
        "x = GlobalMaxPooling1D()(x)\n",
        "x = Dense(300, activation='relu') (x)\n",
        "#x = concatenate([max_pool])\n",
        "x = Dense(3, activation='softmax') (x)\n",
        "\n",
        "model = Model(inputs=inp, outputs=x)\n",
        "model.compile(loss='sparse_categorical_crossentropy',\n",
        "              optimizer=tf.keras.optimizers.Adam(lr=0.01, decay=0.001), \n",
        "              metrics=['accuracy'])\n",
        "\n",
        "filepath = os.path.join(MODEL_PATH, \"bndes_sentiment.hdf5\")\n",
        "checkpoint = ModelCheckpoint(filepath, \n",
        "                             monitor='val_accuracy', \n",
        "                             verbose=1, \n",
        "                             save_best_only=True, \n",
        "                             mode='max',\n",
        "                             save_weights_only=False)\n",
        "early_stopping = tf.keras.callbacks.EarlyStopping(monitor='val_accuracy', patience=3)\n",
        "callbacks_list = [checkpoint, early_stopping]\n",
        "\n",
        "history_double_lstm = model.fit(X_train, y_train, validation_data=(X_val, y_val),  batch_size=32, epochs=10, callbacks=callbacks_list)\n",
        "\n"
      ]
    },
    {
      "cell_type": "code",
      "execution_count": null,
      "metadata": {
        "id": "QnSxZaRAlZth"
      },
      "outputs": [],
      "source": [
        "filepath = os.path.join(MODEL_PATH, \"bndes_sentiment.hdf5\")\n",
        "model_load = tf.keras.models.load_model(filepath)\n",
        "evaluate = model_load.evaluate(X_test,y_test)\n",
        "print('Test set\\n  Loss: {:0.4f}\\n  Accuracy: {:0.4f}'.format(evaluate[0],evaluate[1]))"
      ]
    },
    {
      "cell_type": "code",
      "execution_count": null,
      "metadata": {
        "colab": {
          "base_uri": "https://localhost:8080/",
          "height": 35
        },
        "id": "3Q9IGfZYlmp3",
        "outputId": "98618b56-b0e2-426d-ff73-ffd243c0cc4c"
      },
      "outputs": [
        {
          "data": {
            "application/vnd.google.colaboratory.intrinsic+json": {
              "type": "string"
            },
            "text/plain": [
              "'3.5.2'"
            ]
          },
          "execution_count": 3,
          "metadata": {},
          "output_type": "execute_result"
        }
      ],
      "source": [
        "matplotlib.__version__ ## returns 3.2.2"
      ]
    },
    {
      "cell_type": "code",
      "execution_count": null,
      "metadata": {
        "colab": {
          "base_uri": "https://localhost:8080/",
          "height": 337
        },
        "id": "OwbesSiwTgvh",
        "outputId": "70492c80-50a5-498c-f395-1377c498297f"
      },
      "outputs": [
        {
          "name": "stderr",
          "output_type": "stream",
          "text": [
            "/usr/local/lib/python3.7/dist-packages/seaborn/_decorators.py:43: FutureWarning: Pass the following variables as keyword args: x, y. From version 0.12, the only valid positional argument will be `data`, and passing other arguments without an explicit keyword will result in an error or misinterpretation.\n",
            "  FutureWarning\n"
          ]
        },
        {
          "data": {
            "text/plain": [
              "[Text(0, 0, '65164'), Text(0, 0, '7241'), Text(0, 0, '8046')]"
            ]
          },
          "execution_count": 17,
          "metadata": {},
          "output_type": "execute_result"
        },
        {
          "data": {
            "image/png": "[encoded data removed]",
            "text/plain": [
              "<Figure size 432x288 with 1 Axes>"
            ]
          },
          "metadata": {},
          "output_type": "display_data"
        }
      ],
      "source": [
        "categorias = ['Treino','Validação', 'Teste']\n",
        "quantidades= [len(X_train), len(X_val), len(X_test)]\n",
        "ax = sns.barplot(categorias, quantidades,x='Cat',y='Qtd. Itens',errwidth=0)\n",
        "ax.bar_label(ax.containers[0])"
      ]
    },
    {
      "cell_type": "code",
      "execution_count": null,
      "metadata": {
        "colab": {
          "base_uri": "https://localhost:8080/",
          "height": 320
        },
        "id": "7xa40a9OlnyI",
        "outputId": "2279c6ed-7976-44f8-d35c-8cbd16e08b1e"
      },
      "outputs": [
        {
          "name": "stderr",
          "output_type": "stream",
          "text": [
            "/usr/local/lib/python3.7/dist-packages/seaborn/_decorators.py:43: FutureWarning: Pass the following variables as keyword args: x, y. From version 0.12, the only valid positional argument will be `data`, and passing other arguments without an explicit keyword will result in an error or misinterpretation.\n",
            "  FutureWarning\n"
          ]
        },
        {
          "data": {
            "image/png": "[encoded data removed]",
            "text/plain": [
              "<Figure size 432x288 with 1 Axes>"
            ]
          },
          "metadata": {},
          "output_type": "display_data"
        }
      ],
      "source": [
        "label_sum_categoria: List[int] = []\n",
        "for l in LABEL_NAMES:\n",
        "    label_sum_categoria.append(0)\n",
        "for label in lista_label_completa:\n",
        "    label_sum_categoria[LABEL_NAMES.index(label)] += 1\n",
        "ax = sns.barplot(label_sum_categoria, LABEL_NAMES)\n",
        "ax.bar_label(ax.containers[0])\n",
        "plt.show()"
      ]
    },
    {
      "cell_type": "code",
      "execution_count": null,
      "metadata": {
        "colab": {
          "base_uri": "https://localhost:8080/",
          "height": 746
        },
        "id": "gkPs7AYgVwPe",
        "outputId": "245f4bb0-e241-40c5-ba90-71bf67c915c9"
      },
      "outputs": [
        {
          "data": {
            "text/plain": [
              "<seaborn.axisgrid.FacetGrid at 0x7f934ede3710>"
            ]
          },
          "execution_count": 19,
          "metadata": {},
          "output_type": "execute_result"
        },
        {
          "data": {
            "image/png": "[encoded data removed]",
            "text/plain": [
              "<Figure size 720x720 with 1 Axes>"
            ]
          },
          "metadata": {},
          "output_type": "display_data"
        }
      ],
      "source": [
        "lista_tam_tokens = [len(lista) for lista in lista_texto_completa if len(lista) < 1500]\n",
        "sns.displot(lista_tam_tokens, height=10)"
      ]
    },
    {
      "cell_type": "code",
      "execution_count": null,
      "metadata": {
        "colab": {
          "base_uri": "https://localhost:8080/"
        },
        "id": "PxqhFKmmxlXR",
        "outputId": "0bff141f-315d-4047-fb03-5357294bcc20"
      },
      "outputs": [
        {
          "data": {
            "text/plain": [
              "80451"
            ]
          },
          "execution_count": 18,
          "metadata": {},
          "output_type": "execute_result"
        }
      ],
      "source": [
        "len(lista_texto_completa)"
      ]
    },
    {
      "cell_type": "code",
      "execution_count": null,
      "metadata": {
        "colab": {
          "base_uri": "https://localhost:8080/"
        },
        "id": "epJOmfaWdSvE",
        "outputId": "8690c39d-cf50-4e19-b244-58173fec3809"
      },
      "outputs": [
        {
          "output_type": "stream",
          "name": "stdout",
          "text": [
            "[nltk_data] Downloading package punkt to /root/nltk_data...\n",
            "[nltk_data]   Package punkt is already up-to-date!\n",
            "[nltk_data] Downloading package punkt to /root/nltk_data...\n",
            "[nltk_data]   Package punkt is already up-to-date!\n",
            "Carregando Embedding...\n",
            "tcmalloc: large alloc 2231025664 bytes == 0xaa048000 @  0x7ffb645081e7 0x7ffb61e990ce 0x7ffb61eefcf5 0x7ffb61f9886d 0x7ffb61f9917f 0x7ffb61f992d0 0x4bc4ab 0x7ffb61eda944 0x59371f 0x515244 0x549576 0x593fce 0x548ae9 0x5127f1 0x549e0e 0x4bcb19 0x7ffb61eda944 0x59371f 0x515244 0x549576 0x593fce 0x548ae9 0x51566f 0x549576 0x593fce 0x5118f8 0x593dd7 0x548ae9 0x51566f 0x593dd7 0x5118f8\n",
            "2022-08-28 09:36:48.688372: E tensorflow/stream_executor/cuda/cuda_driver.cc:271] failed call to cuInit: CUDA_ERROR_NO_DEVICE: no CUDA-capable device is detected\n",
            "Tokenizando... : 100% 5/5 [00:00<00:00, 187.85it/s]\n",
            "Tratamento tokens ausentes...: 100% 5/5 [00:00<00:00, 11190.78it/s]\n",
            " Sentimento: Negativa /n um amigo #cubano está perguntando se o pt continuará investindo em #cuba com dinheiro do #bndes(do povo #brasileiro). falei pra ele ficar tranquilo, pois #lula fará trens, portos, aeroportos, e muito mais, em cuba. esse item do plano de governo do pt mostra bem isso, correto?\n",
            " ===============================================\n",
            " Sentimento: Positiva /n o programa emergencial de acesso a crédito, tem como objetivo possibilitar a ampliação do acesso ao crédito para meis, micro, pequenas e médias empresas, permitindo a manutenção do emprego e da renda.\n",
            " ===============================================\n",
            " Sentimento: Negativa /n manda ele pegar o #metro de caracas pago pelo #bndes  e levar pra  #belohorizonte. #ptnuncamais\n",
            " ===============================================\n",
            " Sentimento: Negativa /n falei lá atrás que o #ptnuncamais aparelhou junto com #cuba, #venezuela e mais 13 nações via #bndes e me perdoem #patriotas não lembrar o nome da #bolívia que foi sim ajudada pelo #bandido #comunista via #petrobrás com 3 refinarias a custo zero para aquele país sul americano.\n",
            " ===============================================\n",
            " Sentimento: Neutra /n o banco nacional de desenvolvimento econômico e social (#bndes) adiou de 22 de agosto para o próximo dia 6 de setembro a realização de audiência pública para discutir a desestatização do porto de santos.\n",
            " ===============================================\n"
          ]
        }
      ],
      "source": [
        "!python bndes-sentiment.py lstm predicao textos.txt"
      ]
    },
    {
      "cell_type": "code",
      "execution_count": null,
      "metadata": {
        "id": "BJoXsI-WBjtI"
      },
      "outputs": [],
      "source": []
    }
  ],
  "metadata": {
    "colab": {
      "collapsed_sections": [],
      "machine_shape": "hm",
      "name": "analise-textos.ipynb",
      "provenance": []
    },
    "gpuClass": "standard",
    "kernelspec": {
      "display_name": "Python 3",
      "name": "python3"
    },
    "language_info": {
      "name": "python"
    }
  },
  "nbformat": 4,
  "nbformat_minor": 0
}